{
 "cells": [
  {
   "attachments": {},
   "cell_type": "markdown",
   "metadata": {},
   "source": [
    "# 1. Description\n",
    "\n",
    "Test `Surprise` library for recomendation system, create 2-step recommendation system based on Amazon `sport and outdoor` [dataset (small)](https://nijianmo.github.io/amazon/index.html).\n",
    "\n",
    "Sports and Outdoors dataset:   \n",
    "* overall - rating of the product\n",
    "* reviewerID - ID of the reviewer, e.g. A2SUAM1J3GNN3B\n",
    "* reviewTime - time of the review (raw)\n",
    "* asin - ID of the product, e.g. 0000013714\n",
    "* reviewerName - name of the reviewer\n",
    "* reviewText - text of the review\n",
    "* summary - summary of the review\n",
    "* unixReviewTime - time of the review (unix time)"
   ]
  },
  {
   "attachments": {},
   "cell_type": "markdown",
   "metadata": {},
   "source": [
    "# 2. Imports"
   ]
  },
  {
   "cell_type": "code",
   "execution_count": 1,
   "metadata": {},
   "outputs": [
    {
     "name": "stderr",
     "output_type": "stream",
     "text": [
      "C:\\Users\\parshin_sa2\\AppData\\Roaming\\Python\\Python310\\site-packages\\scipy\\__init__.py:146: UserWarning: A NumPy version >=1.16.5 and <1.23.0 is required for this version of SciPy (detected version 1.26.0\n",
      "  warnings.warn(f\"A NumPy version >={np_minversion} and <{np_maxversion}\"\n"
     ]
    }
   ],
   "source": [
    "import pandas as pd\n",
    "import numpy as np\n",
    "import scipy.sparse as sparse\n",
    "from scipy.stats import uniform, randint\n",
    "\n",
    "\n",
    "import matplotlib.pyplot as plt\n",
    "\n",
    "import surprise\n",
    "from surprise.model_selection.split import train_test_split\n",
    "\n",
    "import time\n",
    "import json\n",
    "import copy\n",
    "from collections import defaultdict\n",
    "\n",
    "from sklearn.inspection import permutation_importance\n",
    "from sklearn.compose import ColumnTransformer\n",
    "from sklearn.impute import SimpleImputer\n",
    "from sklearn.pipeline import Pipeline\n",
    "from sklearn.feature_selection import VarianceThreshold\n",
    "from sklearn.ensemble import RandomForestRegressor\n",
    "from sklearn.model_selection import RandomizedSearchCV\n",
    "from sklearn.metrics import classification_report\n",
    "from sklearn.preprocessing import StandardScaler\n",
    "from category_encoders import BinaryEncoder\n",
    "from sklearn.metrics import mean_absolute_error, mean_squared_error\n",
    "from gensim.models import Word2Vec"
   ]
  },
  {
   "cell_type": "code",
   "execution_count": 21,
   "metadata": {},
   "outputs": [],
   "source": [
    "from scripts import get_top_n, create_id_specific_features, get_embedding"
   ]
  },
  {
   "attachments": {},
   "cell_type": "markdown",
   "metadata": {},
   "source": [
    "# 3. Global params"
   ]
  },
  {
   "cell_type": "code",
   "execution_count": 2,
   "metadata": {},
   "outputs": [],
   "source": [
    "SEED = 42\n",
    "TEST_RATIO = 0.2\n",
    "RAITING = \"overall\"\n",
    "CONFIDENCE = \"vote\"\n",
    "USER_ID = \"reviewerID\"\n",
    "ITEM_ID = \"asin\"\n",
    "RAITING_CONFIDENCE = \"raiting_confidence\"\n",
    "DATA_FOLDER = \"./data/\"\n",
    "\n",
    "# To be shure to have enought known users in test dataset\n",
    "CRITICAL_KNOWN_USERS = 0.6\n",
    "CRITICAL_KNOWN_ITEMS = 0.8\n",
    "CV = 5\n",
    "METRICS = [\"RMSE\", \"MAE\"]\n",
    "KEY_METRIC = \"mae\"\n",
    "KEY_METRIC_SK =\"neg_mean_absolute_error\"\n",
    "SHUFFLE = True\n",
    "NUM_ITER = 10\n",
    "\n",
    "# For second algo\n",
    "VECTOR_SIZE = 20\n",
    "NUM_ITER_SC = 10\n",
    "\n",
    "REC_COL = \"recom\"\n",
    "REC_RF_COL = REC_COL + \"_rf\"\n",
    "VEC_COL = \"summary\"\n",
    "BOOL_COL = \"verified\"\n",
    "TRAIN_COLS = [VEC_COL, BOOL_COL, \"unixReviewTime\", \"review_count\", \"raiting_confidence\", REC_COL]"
   ]
  },
  {
   "attachments": {},
   "cell_type": "markdown",
   "metadata": {},
   "source": [
    "# 4. Download data"
   ]
  },
  {
   "attachments": {},
   "cell_type": "markdown",
   "metadata": {},
   "source": [
    "Download https://jmcauley.ucsd.edu/data/amazon_v2/categoryFilesSmall/Sports_and_Outdoors_5.json.gz into ./data"
   ]
  },
  {
   "cell_type": "code",
   "execution_count": 3,
   "metadata": {},
   "outputs": [],
   "source": [
    "data = [json.loads(line) for line in open(DATA_FOLDER + 'Sports_and_Outdoors_5.json', 'r')]\n",
    "df_data_raw = pd.DataFrame(data)\n",
    "df_data_raw['vote'] = df_data_raw['vote'].str.replace(\",\", \"\")\n",
    "df_data_raw.sort_values(\"unixReviewTime\", inplace=True)"
   ]
  },
  {
   "attachments": {},
   "cell_type": "markdown",
   "metadata": {},
   "source": [
    "General info about uploading data"
   ]
  },
  {
   "cell_type": "code",
   "execution_count": 4,
   "metadata": {},
   "outputs": [
    {
     "name": "stdout",
     "output_type": "stream",
     "text": [
      "(2839940, 12)\n",
      "<class 'pandas.core.frame.DataFrame'>\n",
      "Index: 2839940 entries, 2491 to 2839882\n",
      "Columns: 12 entries, overall to image\n",
      "dtypes: bool(1), float64(1), int64(1), object(9)\n",
      "memory usage: 262.7+ MB\n"
     ]
    }
   ],
   "source": [
    "print(df_data_raw.shape)\n",
    "df_data_raw.info(verbose = False)"
   ]
  },
  {
   "attachments": {},
   "cell_type": "markdown",
   "metadata": {},
   "source": [
    "# 2. EDA"
   ]
  },
  {
   "cell_type": "code",
   "execution_count": 5,
   "metadata": {},
   "outputs": [
    {
     "data": {
      "text/html": [
       "<div>\n",
       "<style scoped>\n",
       "    .dataframe tbody tr th:only-of-type {\n",
       "        vertical-align: middle;\n",
       "    }\n",
       "\n",
       "    .dataframe tbody tr th {\n",
       "        vertical-align: top;\n",
       "    }\n",
       "\n",
       "    .dataframe thead th {\n",
       "        text-align: right;\n",
       "    }\n",
       "</style>\n",
       "<table border=\"1\" class=\"dataframe\">\n",
       "  <thead>\n",
       "    <tr style=\"text-align: right;\">\n",
       "      <th></th>\n",
       "      <th>overall</th>\n",
       "      <th>verified</th>\n",
       "      <th>reviewTime</th>\n",
       "      <th>reviewerID</th>\n",
       "      <th>asin</th>\n",
       "      <th>reviewerName</th>\n",
       "      <th>reviewText</th>\n",
       "      <th>summary</th>\n",
       "      <th>unixReviewTime</th>\n",
       "      <th>style</th>\n",
       "      <th>vote</th>\n",
       "      <th>image</th>\n",
       "    </tr>\n",
       "  </thead>\n",
       "  <tbody>\n",
       "    <tr>\n",
       "      <th>778113</th>\n",
       "      <td>4.0</td>\n",
       "      <td>True</td>\n",
       "      <td>09 20, 2016</td>\n",
       "      <td>AHBWXNMC1GZBZ</td>\n",
       "      <td>B001QBHT1K</td>\n",
       "      <td>mila jose</td>\n",
       "      <td>Came in earlier than expected.  Everything int...</td>\n",
       "      <td>Decided on this brand because in my recent vac...</td>\n",
       "      <td>1474329600</td>\n",
       "      <td>{'Size:': ' Medium (Ladies 8-11)', 'Color:': '...</td>\n",
       "      <td>NaN</td>\n",
       "      <td>NaN</td>\n",
       "    </tr>\n",
       "    <tr>\n",
       "      <th>1145779</th>\n",
       "      <td>5.0</td>\n",
       "      <td>True</td>\n",
       "      <td>05 3, 2015</td>\n",
       "      <td>ANT0G0B58SBQU</td>\n",
       "      <td>B0057XLC2U</td>\n",
       "      <td>David C. Goetz</td>\n",
       "      <td>Great hat for drizzly days, and on sunny days-...</td>\n",
       "      <td>Great hat for drizzly days</td>\n",
       "      <td>1430611200</td>\n",
       "      <td>{'Color:': ' Realtree Xtra'}</td>\n",
       "      <td>NaN</td>\n",
       "      <td>NaN</td>\n",
       "    </tr>\n",
       "    <tr>\n",
       "      <th>623406</th>\n",
       "      <td>5.0</td>\n",
       "      <td>True</td>\n",
       "      <td>11 7, 2015</td>\n",
       "      <td>A1JAA953O9VPMQ</td>\n",
       "      <td>B0019GJZE6</td>\n",
       "      <td>chale&amp;#039;32</td>\n",
       "      <td>Getting good use of it for batting practice</td>\n",
       "      <td>I call it my thunder stick</td>\n",
       "      <td>1446854400</td>\n",
       "      <td>{'Color:': ' Power Stick'}</td>\n",
       "      <td>NaN</td>\n",
       "      <td>NaN</td>\n",
       "    </tr>\n",
       "    <tr>\n",
       "      <th>459791</th>\n",
       "      <td>4.0</td>\n",
       "      <td>True</td>\n",
       "      <td>10 13, 2011</td>\n",
       "      <td>A35O7ULF81HYU2</td>\n",
       "      <td>B0017S37UY</td>\n",
       "      <td>Jason</td>\n",
       "      <td>Stayed plenty warm on a 40 degree night in a V...</td>\n",
       "      <td>Plenty warm for most</td>\n",
       "      <td>1318464000</td>\n",
       "      <td>{'Color:': ' Canvas/ Tan', 'Style:': ' +25 Deg...</td>\n",
       "      <td>8</td>\n",
       "      <td>NaN</td>\n",
       "    </tr>\n",
       "    <tr>\n",
       "      <th>103745</th>\n",
       "      <td>5.0</td>\n",
       "      <td>True</td>\n",
       "      <td>01 7, 2015</td>\n",
       "      <td>ALDDDFMURJUY9</td>\n",
       "      <td>B000BSWE9Q</td>\n",
       "      <td>Daniel</td>\n",
       "      <td>Not full tang but still a good knife and mildl...</td>\n",
       "      <td>Five Stars</td>\n",
       "      <td>1420588800</td>\n",
       "      <td>NaN</td>\n",
       "      <td>NaN</td>\n",
       "      <td>NaN</td>\n",
       "    </tr>\n",
       "  </tbody>\n",
       "</table>\n",
       "</div>"
      ],
      "text/plain": [
       "         overall  verified   reviewTime      reviewerID        asin  \\\n",
       "778113       4.0      True  09 20, 2016   AHBWXNMC1GZBZ  B001QBHT1K   \n",
       "1145779      5.0      True   05 3, 2015   ANT0G0B58SBQU  B0057XLC2U   \n",
       "623406       5.0      True   11 7, 2015  A1JAA953O9VPMQ  B0019GJZE6   \n",
       "459791       4.0      True  10 13, 2011  A35O7ULF81HYU2  B0017S37UY   \n",
       "103745       5.0      True   01 7, 2015   ALDDDFMURJUY9  B000BSWE9Q   \n",
       "\n",
       "           reviewerName                                         reviewText  \\\n",
       "778113        mila jose  Came in earlier than expected.  Everything int...   \n",
       "1145779  David C. Goetz  Great hat for drizzly days, and on sunny days-...   \n",
       "623406    chale&#039;32        Getting good use of it for batting practice   \n",
       "459791            Jason  Stayed plenty warm on a 40 degree night in a V...   \n",
       "103745           Daniel  Not full tang but still a good knife and mildl...   \n",
       "\n",
       "                                                   summary  unixReviewTime  \\\n",
       "778113   Decided on this brand because in my recent vac...      1474329600   \n",
       "1145779                         Great hat for drizzly days      1430611200   \n",
       "623406                          I call it my thunder stick      1446854400   \n",
       "459791                                Plenty warm for most      1318464000   \n",
       "103745                                          Five Stars      1420588800   \n",
       "\n",
       "                                                     style vote image  \n",
       "778113   {'Size:': ' Medium (Ladies 8-11)', 'Color:': '...  NaN   NaN  \n",
       "1145779                       {'Color:': ' Realtree Xtra'}  NaN   NaN  \n",
       "623406                          {'Color:': ' Power Stick'}  NaN   NaN  \n",
       "459791   {'Color:': ' Canvas/ Tan', 'Style:': ' +25 Deg...    8   NaN  \n",
       "103745                                                 NaN  NaN   NaN  "
      ]
     },
     "execution_count": 5,
     "metadata": {},
     "output_type": "execute_result"
    }
   ],
   "source": [
    "df_data_proc = df_data_raw.copy()\n",
    "df_data_proc.sample(5)"
   ]
  },
  {
   "attachments": {},
   "cell_type": "markdown",
   "metadata": {},
   "source": [
    "Firstly check `Null` in `overall`, `reviewerID`, `asin`. There are no `Null`s. It is noted `reviewerID` and `asin` are objects."
   ]
  },
  {
   "cell_type": "code",
   "execution_count": 6,
   "metadata": {},
   "outputs": [
    {
     "name": "stdout",
     "output_type": "stream",
     "text": [
      "<class 'pandas.core.frame.DataFrame'>\n",
      "Index: 2839940 entries, 2491 to 2839882\n",
      "Data columns (total 12 columns):\n",
      " #   Column          Non-Null Count    Dtype  \n",
      "---  ------          --------------    -----  \n",
      " 0   overall         2839940 non-null  float64\n",
      " 1   verified        2839940 non-null  bool   \n",
      " 2   reviewTime      2839940 non-null  object \n",
      " 3   reviewerID      2839940 non-null  object \n",
      " 4   asin            2839940 non-null  object \n",
      " 5   reviewerName    2839661 non-null  object \n",
      " 6   reviewText      2838826 non-null  object \n",
      " 7   summary         2839329 non-null  object \n",
      " 8   unixReviewTime  2839940 non-null  int64  \n",
      " 9   style           1597168 non-null  object \n",
      " 10  vote            378880 non-null   object \n",
      " 11  image           64535 non-null    object \n",
      "dtypes: bool(1), float64(1), int64(1), object(9)\n",
      "memory usage: 262.7+ MB\n"
     ]
    }
   ],
   "source": [
    "df_data_proc.info(verbose=True, show_counts=True)"
   ]
  },
  {
   "cell_type": "code",
   "execution_count": 7,
   "metadata": {},
   "outputs": [
    {
     "name": "stdout",
     "output_type": "stream",
     "text": [
      "[5. 4. 2. 1. 3.]\n"
     ]
    }
   ],
   "source": [
    "# Make RAITING int and vote float\n",
    "print(df_data_proc[RAITING].unique())\n",
    "\n",
    "df_data_types = {RAITING: 'int',\n",
    "                 'vote': 'float32'}\n",
    "\n",
    "df_data_proc = df_data_proc.astype(df_data_types)"
   ]
  },
  {
   "attachments": {},
   "cell_type": "markdown",
   "metadata": {},
   "source": [
    "Create feature with reviews count for the same item from the same user."
   ]
  },
  {
   "cell_type": "code",
   "execution_count": 8,
   "metadata": {},
   "outputs": [],
   "source": [
    "df_data_proc['review_count'] = df_data_proc.groupby([USER_ID, ITEM_ID])[RAITING].transform('count')"
   ]
  },
  {
   "attachments": {},
   "cell_type": "markdown",
   "metadata": {},
   "source": [
    "Delete repeated reviews and save the freshest."
   ]
  },
  {
   "cell_type": "code",
   "execution_count": 9,
   "metadata": {},
   "outputs": [
    {
     "name": "stdout",
     "output_type": "stream",
     "text": [
      "Deleted reviews from the same user and the same item 5.65 %\n"
     ]
    }
   ],
   "source": [
    "df_data_proc = df_data_proc[~df_data_proc.duplicated([USER_ID, ITEM_ID], keep=\"last\")]\n",
    "print(f\"Deleted reviews from the same user and the same item {100 * (df_data_raw.shape[0] - df_data_proc.shape[0]) / df_data_raw.shape[0]:.2f} %\")"
   ]
  },
  {
   "cell_type": "code",
   "execution_count": 10,
   "metadata": {},
   "outputs": [
    {
     "data": {
      "text/plain": [
       "reviewerID    332447\n",
       "asin          104687\n",
       "dtype: int64"
      ]
     },
     "metadata": {},
     "output_type": "display_data"
    },
    {
     "name": "stdout",
     "output_type": "stream",
     "text": [
      "Share of unique users and items, %\n"
     ]
    },
    {
     "data": {
      "text/plain": [
       "reviewerID    12.0\n",
       "asin           4.0\n",
       "dtype: float64"
      ]
     },
     "metadata": {},
     "output_type": "display_data"
    }
   ],
   "source": [
    "display(df_data_proc[[USER_ID, ITEM_ID]].nunique())\n",
    "print(\"Share of unique users and items, %\")\n",
    "display(100 * round(df_data_proc[[USER_ID, ITEM_ID]].nunique() / df_data_proc.shape[0], 2))"
   ]
  },
  {
   "cell_type": "code",
   "execution_count": 11,
   "metadata": {},
   "outputs": [
    {
     "name": "stdout",
     "output_type": "stream",
     "text": [
      "1. Raiting distribution in %\n"
     ]
    },
    {
     "data": {
      "text/plain": [
       "<Axes: >"
      ]
     },
     "execution_count": 11,
     "metadata": {},
     "output_type": "execute_result"
    },
    {
     "data": {
      "image/png": "[encoded data removed]",
      "text/plain": [
       "<Figure size 640x480 with 1 Axes>"
      ]
     },
     "metadata": {},
     "output_type": "display_data"
    }
   ],
   "source": [
    "print(\"1. Raiting distribution in %\")\n",
    "df_data_proc[RAITING].hist(bins=10,\n",
    "                           weights=np.ones_like(df_data_proc[df_data_proc.columns[0]]) * 100. / len(df_data_proc),)"
   ]
  },
  {
   "cell_type": "code",
   "execution_count": 12,
   "metadata": {},
   "outputs": [
    {
     "name": "stdout",
     "output_type": "stream",
     "text": [
      "2. Raiting distribution by items\n"
     ]
    },
    {
     "data": {
      "text/plain": [
       "overall  mean    4.371706\n",
       "         std     0.914599\n",
       "dtype: float64"
      ]
     },
     "metadata": {},
     "output_type": "display_data"
    },
    {
     "data": {
      "image/png": "[encoded data removed]",
      "text/plain": [
       "<Figure size 640x480 with 2 Axes>"
      ]
     },
     "metadata": {},
     "output_type": "display_data"
    }
   ],
   "source": [
    "print(\"2. Raiting distribution by items\")\n",
    "df_data_proc[[RAITING, ITEM_ID]].groupby(ITEM_ID).agg([\"mean\", \"std\"]).hist(bins=10,)\n",
    "display(df_data_proc[[RAITING, ITEM_ID]].groupby(ITEM_ID).agg([\"mean\", \"std\"]).mean())"
   ]
  },
  {
   "cell_type": "code",
   "execution_count": 13,
   "metadata": {},
   "outputs": [
    {
     "name": "stdout",
     "output_type": "stream",
     "text": [
      "3. Raiting distribution by users\n"
     ]
    },
    {
     "data": {
      "text/plain": [
       "overall  mean    4.397208\n",
       "         std     0.747022\n",
       "dtype: float64"
      ]
     },
     "metadata": {},
     "output_type": "display_data"
    },
    {
     "data": {
      "image/png": "[encoded data removed]",
      "text/plain": [
       "<Figure size 640x480 with 2 Axes>"
      ]
     },
     "metadata": {},
     "output_type": "display_data"
    }
   ],
   "source": [
    "print(\"3. Raiting distribution by users\")\n",
    "df_data_proc[[RAITING, USER_ID]].groupby(USER_ID).agg([\"mean\", \"std\"]).hist(bins=10)\n",
    "display(df_data_proc[[RAITING, USER_ID]].groupby(USER_ID).agg([\"mean\", \"std\"]).mean())"
   ]
  },
  {
   "cell_type": "code",
   "execution_count": 14,
   "metadata": {},
   "outputs": [
    {
     "name": "stdout",
     "output_type": "stream",
     "text": [
      "5. Vote distribution in %\n"
     ]
    },
    {
     "data": {
      "text/plain": [
       "<Axes: >"
      ]
     },
     "execution_count": 14,
     "metadata": {},
     "output_type": "execute_result"
    },
    {
     "data": {
      "image/png": "[encoded data removed]",
      "text/plain": [
       "<Figure size 640x480 with 1 Axes>"
      ]
     },
     "metadata": {},
     "output_type": "display_data"
    }
   ],
   "source": [
    "# Prepare vote column: replace nan's and add 1 as the raiting itself is a vote\n",
    "df_data_proc['vote'] = df_data_proc['vote'].fillna(0) + 1\n",
    "print(\"5. Vote distribution in %\")\n",
    "np.log10(df_data_proc['vote']).hist(bins=20,\n",
    "                                    weights=np.ones_like(df_data_proc['vote']) * 100. / len(df_data_proc['vote']))"
   ]
  },
  {
   "cell_type": "code",
   "execution_count": 15,
   "metadata": {},
   "outputs": [
    {
     "name": "stdout",
     "output_type": "stream",
     "text": [
      "6. Raiting taking into account number of votes\n"
     ]
    },
    {
     "data": {
      "text/plain": [
       "<Axes: >"
      ]
     },
     "execution_count": 15,
     "metadata": {},
     "output_type": "execute_result"
    },
    {
     "data": {
      "image/png": "[encoded data removed]",
      "text/plain": [
       "<Figure size 640x480 with 1 Axes>"
      ]
     },
     "metadata": {},
     "output_type": "display_data"
    }
   ],
   "source": [
    "# Create new feature with vote in it. The idea is that vote close to raiting - people agree with the raiting and review, therefore rating itself have it's strength depending on vote.\n",
    "# vote is right-skewed, therefore take a logarithm\n",
    "df_data_proc[RAITING_CONFIDENCE] = np.log10(df_data_proc['vote'] * df_data_proc[RAITING])\n",
    "# transfer raiting to 1->5\n",
    "print(\"6. Raiting taking into account number of votes\")\n",
    "df_data_proc[RAITING_CONFIDENCE].hist(bins=20)"
   ]
  },
  {
   "cell_type": "code",
   "execution_count": 16,
   "metadata": {},
   "outputs": [
    {
     "name": "stdout",
     "output_type": "stream",
     "text": [
      "7. Number of user reviews\n"
     ]
    },
    {
     "data": {
      "text/plain": [
       "<Axes: >"
      ]
     },
     "metadata": {},
     "output_type": "display_data"
    },
    {
     "data": {
      "text/plain": [
       "reviewerID\n",
       "AMMU9VZZ9OSII     12\n",
       "A17KNKWCU3VQCC    24\n",
       "A35D2NA4PFKOD1    25\n",
       "A34V0ZVT9KVPZM    12\n",
       "A1IAZV9G9TSR7E    18\n",
       "A2EUH5XN2FKHC3    41\n",
       "A2OO9W1MFAFGWY    27\n",
       "A3UNPH6U0A65SW    14\n",
       "AFF1RE25JNEGP     16\n",
       "A1K93O68KBD1LE    17\n",
       "A3AVWE26TRE35Y    24\n",
       "A24B2CJOB0SPLC    11\n",
       "A3PFLC5GUZRILE    21\n",
       "A3EAD2KKE9K7X5    11\n",
       "AV8Y6HRKXCKN8     18\n",
       "A2R8LAC7FDNGTT    14\n",
       "A2VIC01SZ9X9CI    15\n",
       "A1TRN925NZIODW    12\n",
       "A1ZQ5PM6TKDGGP    12\n",
       "A3MFU0GVZUVH3K    20\n",
       "Name: asin, dtype: int64"
      ]
     },
     "execution_count": 16,
     "metadata": {},
     "output_type": "execute_result"
    },
    {
     "data": {
      "image/png": "[encoded data removed]",
      "text/plain": [
       "<Figure size 640x480 with 1 Axes>"
      ]
     },
     "metadata": {},
     "output_type": "display_data"
    }
   ],
   "source": [
    "users_cnt = df_data_proc.groupby(USER_ID).count()[ITEM_ID].sort_values(ascending=False)\n",
    "users_cnt = users_cnt[users_cnt.apply(lambda x: (x>10) and (x<100))]\n",
    "\n",
    "print(\"7. Number of user reviews\")\n",
    "display(users_cnt.hist(bins=20))\n",
    "users_cnt.sample(20, random_state=SEED)"
   ]
  },
  {
   "attachments": {},
   "cell_type": "markdown",
   "metadata": {},
   "source": [
    "### Estimate sparsity"
   ]
  },
  {
   "cell_type": "code",
   "execution_count": 17,
   "metadata": {},
   "outputs": [
    {
     "name": "stdout",
     "output_type": "stream",
     "text": [
      "Degree of sparsity: 99.992%\n"
     ]
    }
   ],
   "source": [
    "# Fix unique vals reviewerName\n",
    "users_all = {row[USER_ID]: row['reviewerName'] for (_, row) in df_data_proc.drop_duplicates(subset=[USER_ID])[[USER_ID, 'reviewerName']].iterrows()}\n",
    "items_all = df_data_proc[ITEM_ID].unique()\n",
    "\n",
    "# Get codes from object types\n",
    "rows = df_data_proc[USER_ID].astype('category').cat.codes \n",
    "cols = df_data_proc[ITEM_ID].astype('category').cat.codes\n",
    "\n",
    "# Save data in sparse format\n",
    "df_data_sparse = sparse.csr_matrix((df_data_proc[RAITING], (rows, cols)), shape=(len(users_all), len(items_all)))\n",
    "\n",
    "# Number of possible interactions in the matrix\n",
    "matrix_size = df_data_sparse.shape[0] * df_data_sparse.shape[1]\n",
    "# Number of items interacted with\n",
    "num_reviews = len(df_data_sparse.nonzero()[0])\n",
    "sparsity = 100 * (1 - (num_reviews / matrix_size))\n",
    "\n",
    "print(f\"Degree of sparsity: {sparsity:.3f}%\")"
   ]
  },
  {
   "attachments": {},
   "cell_type": "markdown",
   "metadata": {},
   "source": [
    "Total:\n",
    "* 70% raitings - 5\n",
    "* Mean item raiting 4,37 +- 0,91\n",
    "* Mean user raiting 4,40 +- 0,75\n",
    "* High sparsity degree 99,992%   \n",
    "\n",
    "\n",
    "Observed, users are aimed to give close raitings (less spread and it is seen in distribution form). All distributions are asymmetric, closer to 5. Have tried to fix distribution by quantile_transfor and power transformation, which not succeed. Whereas syntetic raiting with votes number in account with log transformation has distribution is closer to normal (but the principle is not reflect explicit rating):\n",
    "* New raiting was tested\n",
    "* Data transformation was used to have normal distribution"
   ]
  },
  {
   "attachments": {},
   "cell_type": "markdown",
   "metadata": {},
   "source": [
    "### Prepare data"
   ]
  },
  {
   "cell_type": "code",
   "execution_count": 21,
   "metadata": {},
   "outputs": [],
   "source": [
    "reader = surprise.Reader(line_format='user item rating', rating_scale=(1, 5))\n",
    "dataset = surprise.Dataset.load_from_df(df_data_proc[[USER_ID, ITEM_ID, RAITING]], reader)"
   ]
  },
  {
   "attachments": {},
   "cell_type": "markdown",
   "metadata": {},
   "source": [
    "# 3. Train-test split"
   ]
  },
  {
   "attachments": {},
   "cell_type": "markdown",
   "metadata": {},
   "source": [
    "### Full dataset"
   ]
  },
  {
   "cell_type": "code",
   "execution_count": 22,
   "metadata": {},
   "outputs": [],
   "source": [
    "# Dataset sorted, therefore testset is future\n",
    "raw_ratings = dataset.raw_ratings\n",
    "\n",
    "TRESHOLD = int((1 - TEST_RATIO) * len(raw_ratings))\n",
    "train_raw_ratings = raw_ratings[:TRESHOLD]\n",
    "test_raw_ratings = raw_ratings[TRESHOLD:]\n",
    "\n",
    "dataset.raw_ratings = train_raw_ratings  # data is now is train\n",
    "testset = dataset.construct_testset(test_raw_ratings) # testset"
   ]
  },
  {
   "attachments": {},
   "cell_type": "markdown",
   "metadata": {},
   "source": [
    "### Short dataset (for RAM extensive algos)"
   ]
  },
  {
   "cell_type": "code",
   "execution_count": 41,
   "metadata": {},
   "outputs": [],
   "source": [
    "# Short dataset for debug and for Slope One and kNN (do not enough RAM for train)\n",
    "short_dataset_tresh = int(0.98 * len(train_raw_ratings))\n",
    "dataset_short = copy.deepcopy(dataset)\n",
    "dataset_short.raw_ratings = train_raw_ratings[short_dataset_tresh:]  # data is now is train"
   ]
  },
  {
   "attachments": {},
   "cell_type": "markdown",
   "metadata": {},
   "source": [
    "### Explore known users and items in test dataset"
   ]
  },
  {
   "cell_type": "code",
   "execution_count": 22,
   "metadata": {},
   "outputs": [
    {
     "name": "stdout",
     "output_type": "stream",
     "text": [
      "Known users in test dataset 77.89%\n"
     ]
    }
   ],
   "source": [
    "known_users = set(dataset.df[USER_ID].iloc[:TRESHOLD]) & set(dataset.df[USER_ID].iloc[TRESHOLD:])\n",
    "train_users = set(dataset.df[USER_ID].iloc[:TRESHOLD])\n",
    "unknown_users = set(dataset.df[USER_ID].iloc[TRESHOLD:][~dataset.df[USER_ID].iloc[TRESHOLD:].isin(known_users)])\n",
    "\n",
    "portion_known_users = dataset.df[USER_ID].iloc[TRESHOLD:].isin(known_users).sum() / len(test_raw_ratings)\n",
    "assert portion_known_users > CRITICAL_KNOWN_USERS\n",
    "print(f\"Known users in test dataset {100 * portion_known_users:.2f}%\")"
   ]
  },
  {
   "cell_type": "code",
   "execution_count": 23,
   "metadata": {},
   "outputs": [
    {
     "name": "stdout",
     "output_type": "stream",
     "text": [
      "Known users in test dataset 98.01%\n"
     ]
    }
   ],
   "source": [
    "known_items = set(dataset.df[ITEM_ID].iloc[:TRESHOLD]) & set(dataset.df[ITEM_ID].iloc[TRESHOLD:])\n",
    "train_items = set(dataset.df[ITEM_ID].iloc[:TRESHOLD])\n",
    "unknown_items = set(dataset.df[ITEM_ID].iloc[TRESHOLD:][~dataset.df[ITEM_ID].iloc[TRESHOLD:].isin(known_items)])\n",
    "\n",
    "portion_known_items = dataset.df[ITEM_ID].iloc[TRESHOLD:].isin(known_items).sum() / len(test_raw_ratings)\n",
    "assert portion_known_items > CRITICAL_KNOWN_ITEMS\n",
    "print(f\"Known users in test dataset {100 * portion_known_items:.2f}%\")"
   ]
  },
  {
   "attachments": {},
   "cell_type": "markdown",
   "metadata": {},
   "source": [
    "### Prepare cv"
   ]
  },
  {
   "cell_type": "code",
   "execution_count": 24,
   "metadata": {},
   "outputs": [],
   "source": [
    "cv_algo = surprise.model_selection.split.KFold(n_splits=CV, random_state=SEED, shuffle=SHUFFLE,)"
   ]
  },
  {
   "cell_type": "code",
   "execution_count": 25,
   "metadata": {},
   "outputs": [],
   "source": [
    "# DO NOT WORK WITH GridSearch https://datascience.stackexchange.com/questions/73583/how-to-train-test-split-and-cross-validate-in-surprise\n",
    "\n",
    "# Dataset sorted, therefore testset is future\n",
    "# trainset, testset = train_test_split(dataset, test_size=TEST_RATIO, random_state=SEED, shuffle=False)\n",
    "\n",
    "# known_users = 0\n",
    "# for (user, _, _) in testset:\n",
    "#     try:\n",
    "#         known_users += int(trainset.knows_user(trainset.to_inner_uid(user)))\n",
    "#     except ValueError:\n",
    "#         continue\n",
    "\n",
    "# portion_known_users = known_users / len(testset)\n",
    "# assert portion_known_users > CRITICAL_KNOWN_USERS\n",
    "# print(f\"Known users in test dataset {100 * portion_known_users:.2f}%\")"
   ]
  },
  {
   "attachments": {},
   "cell_type": "markdown",
   "metadata": {},
   "source": [
    "# 4. Baseline"
   ]
  },
  {
   "cell_type": "code",
   "execution_count": 26,
   "metadata": {},
   "outputs": [],
   "source": [
    "base_model = surprise.BaselineOnly()"
   ]
  },
  {
   "cell_type": "code",
   "execution_count": 27,
   "metadata": {},
   "outputs": [
    {
     "name": "stdout",
     "output_type": "stream",
     "text": [
      "Estimating biases using als...\n",
      "Estimating biases using als...\n",
      "Estimating biases using als...\n",
      "Estimating biases using als...\n",
      "Estimating biases using als...\n",
      "Evaluating RMSE, MAE of algorithm BaselineOnly on 5 split(s).\n",
      "\n",
      "                  Fold 1  Fold 2  Fold 3  Fold 4  Fold 5  Mean    Std     \n",
      "RMSE (testset)    0.9606  0.9627  0.9627  0.9626  0.9631  0.9623  0.0009  \n",
      "MAE (testset)     0.6996  0.7009  0.7014  0.7001  0.7011  0.7006  0.0007  \n",
      "Fit time          7.37    7.75    9.10    10.24   8.70    8.63    1.02    \n",
      "Test time         2.61    5.09    2.61    2.51    5.03    3.57    1.22    \n",
      "CPU times: total: 1min 50s\n",
      "Wall time: 1min 50s\n"
     ]
    },
    {
     "data": {
      "text/plain": [
       "{'test_rmse': array([0.96062517, 0.9626823 , 0.96266178, 0.96264235, 0.96312309]),\n",
       " 'test_mae': array([0.69959357, 0.70090402, 0.7014176 , 0.70011275, 0.70107799]),\n",
       " 'fit_time': (7.36521315574646,\n",
       "  7.747415065765381,\n",
       "  9.097707271575928,\n",
       "  10.239163398742676,\n",
       "  8.701039791107178),\n",
       " 'test_time': (2.6066136360168457,\n",
       "  5.091938018798828,\n",
       "  2.6089529991149902,\n",
       "  2.505314588546753,\n",
       "  5.030181407928467)}"
      ]
     },
     "execution_count": 27,
     "metadata": {},
     "output_type": "execute_result"
    }
   ],
   "source": [
    "%%time\n",
    "\n",
    "base_model_cv_res = surprise.model_selection.cross_validate(base_model,\n",
    "                                                            dataset,\n",
    "                                                            measures=METRICS,\n",
    "                                                            cv=cv_algo,\n",
    "                                                            verbose=True,)\n",
    "base_model_cv_res"
   ]
  },
  {
   "cell_type": "code",
   "execution_count": 28,
   "metadata": {},
   "outputs": [
    {
     "name": "stdout",
     "output_type": "stream",
     "text": [
      "RMSE: 1.0396\n",
      "MAE:  0.7509\n"
     ]
    }
   ],
   "source": [
    "predictions = base_model.test(testset)\n",
    "base_model_metrics = (surprise.accuracy.rmse(predictions), surprise.accuracy.mae(predictions))"
   ]
  },
  {
   "attachments": {},
   "cell_type": "markdown",
   "metadata": {},
   "source": [
    "# 4. Other models"
   ]
  },
  {
   "attachments": {},
   "cell_type": "markdown",
   "metadata": {},
   "source": [
    "### Slope One"
   ]
  },
  {
   "cell_type": "code",
   "execution_count": 29,
   "metadata": {},
   "outputs": [
    {
     "name": "stdout",
     "output_type": "stream",
     "text": [
      "Evaluating RMSE, MAE of algorithm SlopeOne on 5 split(s).\n",
      "\n",
      "                  Fold 1  Fold 2  Fold 3  Fold 4  Fold 5  Mean    Std     \n",
      "RMSE (testset)    1.0506  1.0498  1.0468  1.0331  1.0466  1.0454  0.0064  \n",
      "MAE (testset)     0.6934  0.6915  0.6905  0.6844  0.6890  0.6897  0.0031  \n",
      "Fit time          5.93    7.26    5.63    7.29    5.55    6.33    0.78    \n",
      "Test time         0.11    0.12    0.13    0.12    0.13    0.12    0.01    \n",
      "CPU times: total: 33 s\n",
      "Wall time: 33.1 s\n"
     ]
    },
    {
     "data": {
      "text/plain": [
       "{'test_rmse': array([1.05058392, 1.04980449, 1.04680794, 1.03306071, 1.04657429]),\n",
       " 'test_mae': array([0.69337924, 0.69151217, 0.69047481, 0.68435262, 0.68898127]),\n",
       " 'fit_time': (5.927400588989258,\n",
       "  7.260566473007202,\n",
       "  5.625110149383545,\n",
       "  7.292251348495483,\n",
       "  5.546650648117065),\n",
       " 'test_time': (0.1050412654876709,\n",
       "  0.11658573150634766,\n",
       "  0.13222622871398926,\n",
       "  0.12032175064086914,\n",
       "  0.12601590156555176)}"
      ]
     },
     "execution_count": 29,
     "metadata": {},
     "output_type": "execute_result"
    }
   ],
   "source": [
    "%%time\n",
    "\n",
    "so1 = surprise.SlopeOne()\n",
    "so1_cv_res = surprise.model_selection.cross_validate(so1,\n",
    "                                                     dataset_short,\n",
    "                                                     measures=METRICS,\n",
    "                                                     cv=cv_algo,\n",
    "                                                     verbose=True)\n",
    "so1_cv_res"
   ]
  },
  {
   "cell_type": "code",
   "execution_count": 31,
   "metadata": {},
   "outputs": [
    {
     "name": "stdout",
     "output_type": "stream",
     "text": [
      "RMSE: 1.0922\n",
      "MAE:  0.7988\n"
     ]
    }
   ],
   "source": [
    "predictions = so1.test(testset)\n",
    "so1_metrics = (surprise.accuracy.rmse(predictions), surprise.accuracy.mae(predictions))"
   ]
  },
  {
   "attachments": {},
   "cell_type": "markdown",
   "metadata": {},
   "source": [
    "### SVD++"
   ]
  },
  {
   "cell_type": "code",
   "execution_count": 32,
   "metadata": {},
   "outputs": [
    {
     "data": {
      "text/plain": [
       "{'n_factors': 6,\n",
       " 'n_epochs': 15,\n",
       " 'init_mean': 0,\n",
       " 'init_std_dev': 0.1,\n",
       " 'lr_bu': 0.01,\n",
       " 'lr_bi': 0.01,\n",
       " 'lr_pu': 0.01,\n",
       " 'lr_qi': 0.01,\n",
       " 'lr_yj': 0.01,\n",
       " 'reg_bu': 0.01,\n",
       " 'reg_bi': 0.01,\n",
       " 'reg_pu': 0.01,\n",
       " 'reg_qi': 0.01,\n",
       " 'reg_yj': 0.01,\n",
       " 'random_state': 42,\n",
       " 'verbose': False,\n",
       " 'cache_ratings': False,\n",
       " 'bsl_options': {},\n",
       " 'sim_options': {'user_based': True}}"
      ]
     },
     "metadata": {},
     "output_type": "display_data"
    },
    {
     "name": "stdout",
     "output_type": "stream",
     "text": [
      "0.6636935569356539\n",
      "CPU times: total: 23min 44s\n",
      "Wall time: 23min 45s\n"
     ]
    }
   ],
   "source": [
    "%%time\n",
    "param_grid = {'n_factors': [4, 6, 10, 14], # randint(4, 40),\n",
    "              'n_epochs': [5, 10, 15], # np.power(10, np.arange(1, 2, 0.1)).astype(int),\n",
    "              'lr_all': [0.001, 0.01], # np.power(5, np.arange(-5, 1, 0.5)),\n",
    "              'reg_all': [2, 1, 0.1, 0.01], # np.power(5, np.arange(-5, 1, 0.5)),\n",
    "              'random_state': [SEED, ]}\n",
    "\n",
    "gs_svdpp = surprise.model_selection.RandomizedSearchCV(surprise.SVDpp,\n",
    "                                                       param_grid,\n",
    "                                                       n_iter=NUM_ITER,\n",
    "                                                       measures=METRICS,\n",
    "                                                       cv=cv_algo,\n",
    "                                                       random_state=SEED)\n",
    "gs_svdpp.fit(dataset)\n",
    "\n",
    "display(vars(gs_svdpp.best_estimator[KEY_METRIC]))\n",
    "print(gs_svdpp.best_score[KEY_METRIC])"
   ]
  },
  {
   "cell_type": "code",
   "execution_count": 34,
   "metadata": {},
   "outputs": [
    {
     "name": "stdout",
     "output_type": "stream",
     "text": [
      "RMSE: 1.0383\n",
      "MAE:  0.7270\n",
      "CPU times: total: 46.5 s\n",
      "Wall time: 46.5 s\n"
     ]
    }
   ],
   "source": [
    "%%time\n",
    "\n",
    "svdpp = gs_svdpp.best_estimator[KEY_METRIC]\n",
    "svdpp.fit(dataset.build_full_trainset())\n",
    "predictions = svdpp.test(testset)\n",
    "svdpp_metrics = (surprise.accuracy.rmse(predictions), surprise.accuracy.mae(predictions))"
   ]
  },
  {
   "attachments": {},
   "cell_type": "markdown",
   "metadata": {},
   "source": [
    "### KNN"
   ]
  },
  {
   "cell_type": "code",
   "execution_count": 42,
   "metadata": {},
   "outputs": [
    {
     "name": "stdout",
     "output_type": "stream",
     "text": [
      "Estimating biases using als...\n",
      "Computing the pearson similarity matrix...\n",
      "Done computing similarity matrix.\n",
      "Estimating biases using als...\n",
      "Computing the pearson similarity matrix...\n",
      "Done computing similarity matrix.\n",
      "Estimating biases using als...\n",
      "Computing the pearson similarity matrix...\n",
      "Done computing similarity matrix.\n",
      "Estimating biases using als...\n",
      "Computing the pearson similarity matrix...\n",
      "Done computing similarity matrix.\n",
      "Estimating biases using als...\n",
      "Computing the pearson similarity matrix...\n",
      "Done computing similarity matrix.\n",
      "Estimating biases using als...\n",
      "Computing the pearson similarity matrix...\n",
      "Done computing similarity matrix.\n",
      "Estimating biases using als...\n",
      "Computing the pearson similarity matrix...\n",
      "Done computing similarity matrix.\n",
      "Estimating biases using als...\n",
      "Computing the pearson similarity matrix...\n",
      "Done computing similarity matrix.\n",
      "Estimating biases using als...\n",
      "Computing the pearson similarity matrix...\n",
      "Done computing similarity matrix.\n",
      "Estimating biases using als...\n",
      "Computing the pearson similarity matrix...\n",
      "Done computing similarity matrix.\n",
      "Estimating biases using als...\n",
      "Computing the msd similarity matrix...\n",
      "Done computing similarity matrix.\n",
      "Estimating biases using als...\n",
      "Computing the msd similarity matrix...\n",
      "Done computing similarity matrix.\n",
      "Estimating biases using als...\n",
      "Computing the msd similarity matrix...\n",
      "Done computing similarity matrix.\n",
      "Estimating biases using als...\n",
      "Computing the msd similarity matrix...\n",
      "Done computing similarity matrix.\n",
      "Estimating biases using als...\n",
      "Computing the msd similarity matrix...\n",
      "Done computing similarity matrix.\n",
      "Estimating biases using als...\n",
      "Computing the pearson similarity matrix...\n",
      "Done computing similarity matrix.\n",
      "Estimating biases using als...\n",
      "Computing the pearson similarity matrix...\n",
      "Done computing similarity matrix.\n",
      "Estimating biases using als...\n",
      "Computing the pearson similarity matrix...\n",
      "Done computing similarity matrix.\n",
      "Estimating biases using als...\n",
      "Computing the pearson similarity matrix...\n",
      "Done computing similarity matrix.\n",
      "Estimating biases using als...\n",
      "Computing the pearson similarity matrix...\n",
      "Done computing similarity matrix.\n",
      "Estimating biases using als...\n",
      "Computing the msd similarity matrix...\n",
      "Done computing similarity matrix.\n",
      "Estimating biases using als...\n",
      "Computing the msd similarity matrix...\n",
      "Done computing similarity matrix.\n",
      "Estimating biases using als...\n",
      "Computing the msd similarity matrix...\n",
      "Done computing similarity matrix.\n",
      "Estimating biases using als...\n",
      "Computing the msd similarity matrix...\n",
      "Done computing similarity matrix.\n",
      "Estimating biases using als...\n",
      "Computing the msd similarity matrix...\n",
      "Done computing similarity matrix.\n",
      "Estimating biases using als...\n",
      "Computing the pearson similarity matrix...\n",
      "Done computing similarity matrix.\n",
      "Estimating biases using als...\n",
      "Computing the pearson similarity matrix...\n",
      "Done computing similarity matrix.\n",
      "Estimating biases using als...\n",
      "Computing the pearson similarity matrix...\n",
      "Done computing similarity matrix.\n",
      "Estimating biases using als...\n",
      "Computing the pearson similarity matrix...\n",
      "Done computing similarity matrix.\n",
      "Estimating biases using als...\n",
      "Computing the pearson similarity matrix...\n",
      "Done computing similarity matrix.\n",
      "Estimating biases using als...\n",
      "Computing the pearson similarity matrix...\n",
      "Done computing similarity matrix.\n",
      "Estimating biases using als...\n",
      "Computing the pearson similarity matrix...\n",
      "Done computing similarity matrix.\n",
      "Estimating biases using als...\n",
      "Computing the pearson similarity matrix...\n",
      "Done computing similarity matrix.\n",
      "Estimating biases using als...\n",
      "Computing the pearson similarity matrix...\n",
      "Done computing similarity matrix.\n",
      "Estimating biases using als...\n",
      "Computing the pearson similarity matrix...\n",
      "Done computing similarity matrix.\n",
      "Estimating biases using als...\n",
      "Computing the pearson similarity matrix...\n",
      "Done computing similarity matrix.\n",
      "Estimating biases using als...\n",
      "Computing the pearson similarity matrix...\n",
      "Done computing similarity matrix.\n",
      "Estimating biases using als...\n",
      "Computing the pearson similarity matrix...\n",
      "Done computing similarity matrix.\n",
      "Estimating biases using als...\n",
      "Computing the pearson similarity matrix...\n",
      "Done computing similarity matrix.\n",
      "Estimating biases using als...\n",
      "Computing the pearson similarity matrix...\n",
      "Done computing similarity matrix.\n",
      "Estimating biases using als...\n",
      "Computing the cosine similarity matrix...\n",
      "Done computing similarity matrix.\n",
      "Estimating biases using als...\n",
      "Computing the cosine similarity matrix...\n",
      "Done computing similarity matrix.\n",
      "Estimating biases using als...\n",
      "Computing the cosine similarity matrix...\n",
      "Done computing similarity matrix.\n",
      "Estimating biases using als...\n",
      "Computing the cosine similarity matrix...\n",
      "Done computing similarity matrix.\n",
      "Estimating biases using als...\n",
      "Computing the cosine similarity matrix...\n",
      "Done computing similarity matrix.\n",
      "Estimating biases using als...\n",
      "Computing the msd similarity matrix...\n",
      "Done computing similarity matrix.\n",
      "Estimating biases using als...\n",
      "Computing the msd similarity matrix...\n",
      "Done computing similarity matrix.\n",
      "Estimating biases using als...\n",
      "Computing the msd similarity matrix...\n",
      "Done computing similarity matrix.\n",
      "Estimating biases using als...\n",
      "Computing the msd similarity matrix...\n",
      "Done computing similarity matrix.\n",
      "Estimating biases using als...\n",
      "Computing the msd similarity matrix...\n",
      "Done computing similarity matrix.\n"
     ]
    },
    {
     "data": {
      "text/plain": [
       "{'bsl_options': {},\n",
       " 'sim_options': {'name': 'msd', 'user_based': True},\n",
       " 'verbose': True,\n",
       " 'k': 20,\n",
       " 'min_k': 5}"
      ]
     },
     "metadata": {},
     "output_type": "display_data"
    },
    {
     "name": "stdout",
     "output_type": "stream",
     "text": [
      "0.725661251367856\n",
      "CPU times: total: 4min 2s\n",
      "Wall time: 4min 2s\n"
     ]
    }
   ],
   "source": [
    "%%time\n",
    "\n",
    "param_grid = {'k': [5, 10, 20, 30, 50],\n",
    "              'min_k': [3, 5, 10, 15], \n",
    "              'sim_options': {\n",
    "                  'name': ['cosine', 'pearson', 'msd',],\n",
    "                  'user_based': [True, ]\n",
    "                  }\n",
    "             }\n",
    "\n",
    "gs_knn = surprise.model_selection.RandomizedSearchCV(surprise.KNNBaseline,\n",
    "                                                     param_grid,\n",
    "                                                     n_iter=NUM_ITER,\n",
    "                                                     measures=METRICS,\n",
    "                                                     cv=cv_algo,\n",
    "                                                     random_state=SEED)\n",
    "gs_knn.fit(dataset_short)\n",
    "\n",
    "\n",
    "display(vars(gs_knn.best_estimator[KEY_METRIC]))\n",
    "print(gs_knn.best_score[KEY_METRIC])"
   ]
  },
  {
   "cell_type": "code",
   "execution_count": 43,
   "metadata": {},
   "outputs": [
    {
     "name": "stdout",
     "output_type": "stream",
     "text": [
      "Estimating biases using als...\n",
      "Computing the msd similarity matrix...\n",
      "Done computing similarity matrix.\n",
      "RMSE: 1.0712\n",
      "MAE:  0.7897\n",
      "CPU times: total: 14.1 s\n",
      "Wall time: 14.1 s\n"
     ]
    }
   ],
   "source": [
    "%%time\n",
    "\n",
    "knn = gs_knn.best_estimator[KEY_METRIC]\n",
    "knn.fit(dataset_short.build_full_trainset())\n",
    "predictions = knn.test(testset)\n",
    "knn_metrics = (surprise.accuracy.rmse(predictions), surprise.accuracy.mae(predictions))"
   ]
  },
  {
   "attachments": {},
   "cell_type": "markdown",
   "metadata": {},
   "source": [
    "# 5. Outcome"
   ]
  },
  {
   "cell_type": "code",
   "execution_count": 44,
   "metadata": {},
   "outputs": [
    {
     "data": {
      "text/html": [
       "<div>\n",
       "<style scoped>\n",
       "    .dataframe tbody tr th:only-of-type {\n",
       "        vertical-align: middle;\n",
       "    }\n",
       "\n",
       "    .dataframe tbody tr th {\n",
       "        vertical-align: top;\n",
       "    }\n",
       "\n",
       "    .dataframe thead th {\n",
       "        text-align: right;\n",
       "    }\n",
       "</style>\n",
       "<table border=\"1\" class=\"dataframe\">\n",
       "  <thead>\n",
       "    <tr style=\"text-align: right;\">\n",
       "      <th></th>\n",
       "      <th>RMSE</th>\n",
       "      <th>MAE</th>\n",
       "    </tr>\n",
       "  </thead>\n",
       "  <tbody>\n",
       "    <tr>\n",
       "      <th>SVDpp</th>\n",
       "      <td>1.038320</td>\n",
       "      <td>0.726963</td>\n",
       "    </tr>\n",
       "    <tr>\n",
       "      <th>BaselineOnly</th>\n",
       "      <td>1.039610</td>\n",
       "      <td>0.750934</td>\n",
       "    </tr>\n",
       "    <tr>\n",
       "      <th>KNNBaseline</th>\n",
       "      <td>1.071190</td>\n",
       "      <td>0.789666</td>\n",
       "    </tr>\n",
       "    <tr>\n",
       "      <th>SlopeOne</th>\n",
       "      <td>1.092173</td>\n",
       "      <td>0.798785</td>\n",
       "    </tr>\n",
       "  </tbody>\n",
       "</table>\n",
       "</div>"
      ],
      "text/plain": [
       "                  RMSE       MAE\n",
       "SVDpp         1.038320  0.726963\n",
       "BaselineOnly  1.039610  0.750934\n",
       "KNNBaseline   1.071190  0.789666\n",
       "SlopeOne      1.092173  0.798785"
      ]
     },
     "execution_count": 44,
     "metadata": {},
     "output_type": "execute_result"
    }
   ],
   "source": [
    "surprise_metrics = pd.DataFrame([base_model_metrics, svdpp_metrics, so1_metrics, knn_metrics],\n",
    "                                columns=[\"RMSE\", \"MAE\"],\n",
    "                                index=[\"BaselineOnly\", \"SVDpp\", \"SlopeOne\", \"KNNBaseline\"])\n",
    "surprise_metrics.sort_values(by=[\"MAE\"])"
   ]
  },
  {
   "attachments": {},
   "cell_type": "markdown",
   "metadata": {},
   "source": [
    "The best one is `SVDpp`. Whereas `KNNBaseline` and `SlopeOne` required more RAM (>32 Gb) for traiing. Therefore dataset was shortened."
   ]
  },
  {
   "attachments": {},
   "cell_type": "markdown",
   "metadata": {},
   "source": [
    "# 6. Observe results"
   ]
  },
  {
   "cell_type": "code",
   "execution_count": 46,
   "metadata": {},
   "outputs": [
    {
     "data": {
      "text/plain": [
       "<surprise.prediction_algorithms.matrix_factorization.SVDpp at 0x13f9a1c3e80>"
      ]
     },
     "execution_count": 46,
     "metadata": {},
     "output_type": "execute_result"
    }
   ],
   "source": [
    "best_model = gs_svdpp.best_estimator[KEY_METRIC]\n",
    "best_model.fit(dataset.build_full_trainset())"
   ]
  },
  {
   "attachments": {},
   "cell_type": "markdown",
   "metadata": {},
   "source": [
    "### Predict some items for specific user"
   ]
  },
  {
   "cell_type": "code",
   "execution_count": 47,
   "metadata": {},
   "outputs": [
    {
     "data": {
      "text/html": [
       "<div>\n",
       "<style scoped>\n",
       "    .dataframe tbody tr th:only-of-type {\n",
       "        vertical-align: middle;\n",
       "    }\n",
       "\n",
       "    .dataframe tbody tr th {\n",
       "        vertical-align: top;\n",
       "    }\n",
       "\n",
       "    .dataframe thead th {\n",
       "        text-align: right;\n",
       "    }\n",
       "</style>\n",
       "<table border=\"1\" class=\"dataframe\">\n",
       "  <thead>\n",
       "    <tr style=\"text-align: right;\">\n",
       "      <th></th>\n",
       "      <th>reviewerID</th>\n",
       "      <th>asin</th>\n",
       "      <th>overall</th>\n",
       "    </tr>\n",
       "  </thead>\n",
       "  <tbody>\n",
       "    <tr>\n",
       "      <th>879378</th>\n",
       "      <td>A2EUH5XN2FKHC3</td>\n",
       "      <td>B002MD01MU</td>\n",
       "      <td>5</td>\n",
       "    </tr>\n",
       "    <tr>\n",
       "      <th>1386086</th>\n",
       "      <td>A2EUH5XN2FKHC3</td>\n",
       "      <td>B0095D3I8E</td>\n",
       "      <td>5</td>\n",
       "    </tr>\n",
       "    <tr>\n",
       "      <th>1544513</th>\n",
       "      <td>A2EUH5XN2FKHC3</td>\n",
       "      <td>B00CIOGI3E</td>\n",
       "      <td>5</td>\n",
       "    </tr>\n",
       "  </tbody>\n",
       "</table>\n",
       "</div>"
      ],
      "text/plain": [
       "             reviewerID        asin  overall\n",
       "879378   A2EUH5XN2FKHC3  B002MD01MU        5\n",
       "1386086  A2EUH5XN2FKHC3  B0095D3I8E        5\n",
       "1544513  A2EUH5XN2FKHC3  B00CIOGI3E        5"
      ]
     },
     "metadata": {},
     "output_type": "display_data"
    },
    {
     "data": {
      "text/html": [
       "<div>\n",
       "<style scoped>\n",
       "    .dataframe tbody tr th:only-of-type {\n",
       "        vertical-align: middle;\n",
       "    }\n",
       "\n",
       "    .dataframe tbody tr th {\n",
       "        vertical-align: top;\n",
       "    }\n",
       "\n",
       "    .dataframe thead th {\n",
       "        text-align: right;\n",
       "    }\n",
       "</style>\n",
       "<table border=\"1\" class=\"dataframe\">\n",
       "  <thead>\n",
       "    <tr style=\"text-align: right;\">\n",
       "      <th></th>\n",
       "      <th>reviewerID</th>\n",
       "      <th>asin</th>\n",
       "      <th>overall</th>\n",
       "    </tr>\n",
       "  </thead>\n",
       "  <tbody>\n",
       "    <tr>\n",
       "      <th>2555607</th>\n",
       "      <td>A2EUH5XN2FKHC3</td>\n",
       "      <td>B001GSMUCQ</td>\n",
       "      <td>3</td>\n",
       "    </tr>\n",
       "    <tr>\n",
       "      <th>700781</th>\n",
       "      <td>A2EUH5XN2FKHC3</td>\n",
       "      <td>B001FCFK5C</td>\n",
       "      <td>2</td>\n",
       "    </tr>\n",
       "    <tr>\n",
       "      <th>1319670</th>\n",
       "      <td>A2EUH5XN2FKHC3</td>\n",
       "      <td>B007PPI9JC</td>\n",
       "      <td>1</td>\n",
       "    </tr>\n",
       "  </tbody>\n",
       "</table>\n",
       "</div>"
      ],
      "text/plain": [
       "             reviewerID        asin  overall\n",
       "2555607  A2EUH5XN2FKHC3  B001GSMUCQ        3\n",
       "700781   A2EUH5XN2FKHC3  B001FCFK5C        2\n",
       "1319670  A2EUH5XN2FKHC3  B007PPI9JC        1"
      ]
     },
     "metadata": {},
     "output_type": "display_data"
    },
    {
     "data": {
      "text/html": [
       "<div>\n",
       "<style scoped>\n",
       "    .dataframe tbody tr th:only-of-type {\n",
       "        vertical-align: middle;\n",
       "    }\n",
       "\n",
       "    .dataframe tbody tr th {\n",
       "        vertical-align: top;\n",
       "    }\n",
       "\n",
       "    .dataframe thead th {\n",
       "        text-align: right;\n",
       "    }\n",
       "</style>\n",
       "<table border=\"1\" class=\"dataframe\">\n",
       "  <thead>\n",
       "    <tr style=\"text-align: right;\">\n",
       "      <th></th>\n",
       "      <th>reviewerID</th>\n",
       "      <th>asin</th>\n",
       "      <th>overall</th>\n",
       "    </tr>\n",
       "  </thead>\n",
       "  <tbody>\n",
       "    <tr>\n",
       "      <th>1103380</th>\n",
       "      <td>AMMU9VZZ9OSII</td>\n",
       "      <td>B004WGN1KO</td>\n",
       "      <td>5</td>\n",
       "    </tr>\n",
       "    <tr>\n",
       "      <th>1181990</th>\n",
       "      <td>AMMU9VZZ9OSII</td>\n",
       "      <td>B005I5ML0O</td>\n",
       "      <td>5</td>\n",
       "    </tr>\n",
       "    <tr>\n",
       "      <th>418132</th>\n",
       "      <td>AMMU9VZZ9OSII</td>\n",
       "      <td>B0015KG5NK</td>\n",
       "      <td>5</td>\n",
       "    </tr>\n",
       "  </tbody>\n",
       "</table>\n",
       "</div>"
      ],
      "text/plain": [
       "            reviewerID        asin  overall\n",
       "1103380  AMMU9VZZ9OSII  B004WGN1KO        5\n",
       "1181990  AMMU9VZZ9OSII  B005I5ML0O        5\n",
       "418132   AMMU9VZZ9OSII  B0015KG5NK        5"
      ]
     },
     "metadata": {},
     "output_type": "display_data"
    },
    {
     "data": {
      "text/html": [
       "<div>\n",
       "<style scoped>\n",
       "    .dataframe tbody tr th:only-of-type {\n",
       "        vertical-align: middle;\n",
       "    }\n",
       "\n",
       "    .dataframe tbody tr th {\n",
       "        vertical-align: top;\n",
       "    }\n",
       "\n",
       "    .dataframe thead th {\n",
       "        text-align: right;\n",
       "    }\n",
       "</style>\n",
       "<table border=\"1\" class=\"dataframe\">\n",
       "  <thead>\n",
       "    <tr style=\"text-align: right;\">\n",
       "      <th></th>\n",
       "      <th>reviewerID</th>\n",
       "      <th>asin</th>\n",
       "      <th>overall</th>\n",
       "    </tr>\n",
       "  </thead>\n",
       "  <tbody>\n",
       "    <tr>\n",
       "      <th>316162</th>\n",
       "      <td>AMMU9VZZ9OSII</td>\n",
       "      <td>B000VHTUKS</td>\n",
       "      <td>3</td>\n",
       "    </tr>\n",
       "    <tr>\n",
       "      <th>2325813</th>\n",
       "      <td>AMMU9VZZ9OSII</td>\n",
       "      <td>B018L2WM86</td>\n",
       "      <td>3</td>\n",
       "    </tr>\n",
       "    <tr>\n",
       "      <th>2571057</th>\n",
       "      <td>AMMU9VZZ9OSII</td>\n",
       "      <td>B002060PBQ</td>\n",
       "      <td>2</td>\n",
       "    </tr>\n",
       "  </tbody>\n",
       "</table>\n",
       "</div>"
      ],
      "text/plain": [
       "            reviewerID        asin  overall\n",
       "316162   AMMU9VZZ9OSII  B000VHTUKS        3\n",
       "2325813  AMMU9VZZ9OSII  B018L2WM86        3\n",
       "2571057  AMMU9VZZ9OSII  B002060PBQ        2"
      ]
     },
     "metadata": {},
     "output_type": "display_data"
    },
    {
     "data": {
      "text/html": [
       "<div>\n",
       "<style scoped>\n",
       "    .dataframe tbody tr th:only-of-type {\n",
       "        vertical-align: middle;\n",
       "    }\n",
       "\n",
       "    .dataframe tbody tr th {\n",
       "        vertical-align: top;\n",
       "    }\n",
       "\n",
       "    .dataframe thead th {\n",
       "        text-align: right;\n",
       "    }\n",
       "</style>\n",
       "<table border=\"1\" class=\"dataframe\">\n",
       "  <thead>\n",
       "    <tr style=\"text-align: right;\">\n",
       "      <th></th>\n",
       "      <th>reviewerID</th>\n",
       "      <th>asin</th>\n",
       "      <th>overall</th>\n",
       "    </tr>\n",
       "  </thead>\n",
       "  <tbody>\n",
       "    <tr>\n",
       "      <th>556137</th>\n",
       "      <td>A38VV9LBC1N11Z</td>\n",
       "      <td>B0014VYT7O</td>\n",
       "      <td>5</td>\n",
       "    </tr>\n",
       "    <tr>\n",
       "      <th>1354193</th>\n",
       "      <td>A38VV9LBC1N11Z</td>\n",
       "      <td>B008CPU4CY</td>\n",
       "      <td>5</td>\n",
       "    </tr>\n",
       "    <tr>\n",
       "      <th>2306885</th>\n",
       "      <td>A38VV9LBC1N11Z</td>\n",
       "      <td>B017O9DLQY</td>\n",
       "      <td>5</td>\n",
       "    </tr>\n",
       "  </tbody>\n",
       "</table>\n",
       "</div>"
      ],
      "text/plain": [
       "             reviewerID        asin  overall\n",
       "556137   A38VV9LBC1N11Z  B0014VYT7O        5\n",
       "1354193  A38VV9LBC1N11Z  B008CPU4CY        5\n",
       "2306885  A38VV9LBC1N11Z  B017O9DLQY        5"
      ]
     },
     "metadata": {},
     "output_type": "display_data"
    },
    {
     "data": {
      "text/html": [
       "<div>\n",
       "<style scoped>\n",
       "    .dataframe tbody tr th:only-of-type {\n",
       "        vertical-align: middle;\n",
       "    }\n",
       "\n",
       "    .dataframe tbody tr th {\n",
       "        vertical-align: top;\n",
       "    }\n",
       "\n",
       "    .dataframe thead th {\n",
       "        text-align: right;\n",
       "    }\n",
       "</style>\n",
       "<table border=\"1\" class=\"dataframe\">\n",
       "  <thead>\n",
       "    <tr style=\"text-align: right;\">\n",
       "      <th></th>\n",
       "      <th>reviewerID</th>\n",
       "      <th>asin</th>\n",
       "      <th>overall</th>\n",
       "    </tr>\n",
       "  </thead>\n",
       "  <tbody>\n",
       "    <tr>\n",
       "      <th>2480688</th>\n",
       "      <td>A38VV9LBC1N11Z</td>\n",
       "      <td>B01GW2H430</td>\n",
       "      <td>4</td>\n",
       "    </tr>\n",
       "    <tr>\n",
       "      <th>1829434</th>\n",
       "      <td>A38VV9LBC1N11Z</td>\n",
       "      <td>B00KFTCCRA</td>\n",
       "      <td>4</td>\n",
       "    </tr>\n",
       "    <tr>\n",
       "      <th>2057643</th>\n",
       "      <td>A38VV9LBC1N11Z</td>\n",
       "      <td>B00T6PTQ6Y</td>\n",
       "      <td>4</td>\n",
       "    </tr>\n",
       "  </tbody>\n",
       "</table>\n",
       "</div>"
      ],
      "text/plain": [
       "             reviewerID        asin  overall\n",
       "2480688  A38VV9LBC1N11Z  B01GW2H430        4\n",
       "1829434  A38VV9LBC1N11Z  B00KFTCCRA        4\n",
       "2057643  A38VV9LBC1N11Z  B00T6PTQ6Y        4"
      ]
     },
     "metadata": {},
     "output_type": "display_data"
    }
   ],
   "source": [
    "# Отзывы user\n",
    "users_test = {\n",
    "    \"A2EUH5XN2FKHC3\": [\"B00HVQT8WW\", \"B0017SGUDU\", \"B007PPI9JC\", \"B005I5ML0O\"], # last item is unknown for user\n",
    "    \"AMMU9VZZ9OSII\": [\"B005I5ML0O\", \"B000VHTUKS\", \"B002060PBQ\", \"B007PPI9JC\"],  # last item is unknown for user\n",
    "    \"A38VV9LBC1N11Z\": [\"B0014VYT7O\", \"B00T6PTQ6Y\" , \"B01CTPUQW0\", \"B01H1TXCJS\"], # last 2 items i\n",
    "} \n",
    "\n",
    "for user in users_test:\n",
    "    display(df_data_proc[df_data_proc[USER_ID] == user][[USER_ID, ITEM_ID, RAITING]].sort_values(RAITING, ascending=False).head(3))\n",
    "    display(df_data_proc[df_data_proc[USER_ID] == user][[USER_ID, ITEM_ID, RAITING]].sort_values(RAITING, ascending=False).tail(3))"
   ]
  },
  {
   "cell_type": "code",
   "execution_count": 50,
   "metadata": {},
   "outputs": [],
   "source": [
    "pred_res = {\"user\": [], \"item\": [], \"raiting\": [], \"pred\": []}\n",
    "\n",
    "for user, items in users_test.items():\n",
    "    for item in items:\n",
    "        pred_res[\"user\"].append(user)\n",
    "        pred_res[\"item\"].append(item)\n",
    "        pred_res[\"pred\"].append(best_model.predict(user, item, verbose=False).est)\n",
    "        \n",
    "        actual = df_data_proc.loc[(df_data_proc[USER_ID] == user) & (df_data_proc[ITEM_ID] == item), RAITING].to_list()\n",
    "        pred_res[\"raiting\"].append(None if len(actual) == 0 else actual[0])"
   ]
  },
  {
   "cell_type": "code",
   "execution_count": 49,
   "metadata": {},
   "outputs": [
    {
     "data": {
      "text/html": [
       "<div>\n",
       "<style scoped>\n",
       "    .dataframe tbody tr th:only-of-type {\n",
       "        vertical-align: middle;\n",
       "    }\n",
       "\n",
       "    .dataframe tbody tr th {\n",
       "        vertical-align: top;\n",
       "    }\n",
       "\n",
       "    .dataframe thead th {\n",
       "        text-align: right;\n",
       "    }\n",
       "</style>\n",
       "<table border=\"1\" class=\"dataframe\">\n",
       "  <thead>\n",
       "    <tr style=\"text-align: right;\">\n",
       "      <th></th>\n",
       "      <th>user</th>\n",
       "      <th>item</th>\n",
       "      <th>raiting</th>\n",
       "      <th>pred</th>\n",
       "    </tr>\n",
       "  </thead>\n",
       "  <tbody>\n",
       "    <tr>\n",
       "      <th>0</th>\n",
       "      <td>A2EUH5XN2FKHC3</td>\n",
       "      <td>B00HVQT8WW</td>\n",
       "      <td>5.0</td>\n",
       "      <td>4.632478</td>\n",
       "    </tr>\n",
       "    <tr>\n",
       "      <th>1</th>\n",
       "      <td>A2EUH5XN2FKHC3</td>\n",
       "      <td>B0017SGUDU</td>\n",
       "      <td>3.0</td>\n",
       "      <td>4.237020</td>\n",
       "    </tr>\n",
       "    <tr>\n",
       "      <th>2</th>\n",
       "      <td>A2EUH5XN2FKHC3</td>\n",
       "      <td>B007PPI9JC</td>\n",
       "      <td>1.0</td>\n",
       "      <td>3.613002</td>\n",
       "    </tr>\n",
       "    <tr>\n",
       "      <th>3</th>\n",
       "      <td>A2EUH5XN2FKHC3</td>\n",
       "      <td>B005I5ML0O</td>\n",
       "      <td>NaN</td>\n",
       "      <td>4.548173</td>\n",
       "    </tr>\n",
       "    <tr>\n",
       "      <th>4</th>\n",
       "      <td>AMMU9VZZ9OSII</td>\n",
       "      <td>B005I5ML0O</td>\n",
       "      <td>5.0</td>\n",
       "      <td>4.144081</td>\n",
       "    </tr>\n",
       "    <tr>\n",
       "      <th>5</th>\n",
       "      <td>AMMU9VZZ9OSII</td>\n",
       "      <td>B000VHTUKS</td>\n",
       "      <td>3.0</td>\n",
       "      <td>3.987568</td>\n",
       "    </tr>\n",
       "    <tr>\n",
       "      <th>6</th>\n",
       "      <td>AMMU9VZZ9OSII</td>\n",
       "      <td>B002060PBQ</td>\n",
       "      <td>2.0</td>\n",
       "      <td>3.596234</td>\n",
       "    </tr>\n",
       "    <tr>\n",
       "      <th>7</th>\n",
       "      <td>AMMU9VZZ9OSII</td>\n",
       "      <td>B007PPI9JC</td>\n",
       "      <td>NaN</td>\n",
       "      <td>3.291260</td>\n",
       "    </tr>\n",
       "    <tr>\n",
       "      <th>8</th>\n",
       "      <td>A38VV9LBC1N11Z</td>\n",
       "      <td>B0014VYT7O</td>\n",
       "      <td>5.0</td>\n",
       "      <td>4.530838</td>\n",
       "    </tr>\n",
       "    <tr>\n",
       "      <th>9</th>\n",
       "      <td>A38VV9LBC1N11Z</td>\n",
       "      <td>B00T6PTQ6Y</td>\n",
       "      <td>4.0</td>\n",
       "      <td>4.235796</td>\n",
       "    </tr>\n",
       "    <tr>\n",
       "      <th>10</th>\n",
       "      <td>A38VV9LBC1N11Z</td>\n",
       "      <td>B01CTPUQW0</td>\n",
       "      <td>NaN</td>\n",
       "      <td>4.415626</td>\n",
       "    </tr>\n",
       "    <tr>\n",
       "      <th>11</th>\n",
       "      <td>A38VV9LBC1N11Z</td>\n",
       "      <td>B01H1TXCJS</td>\n",
       "      <td>NaN</td>\n",
       "      <td>4.415626</td>\n",
       "    </tr>\n",
       "  </tbody>\n",
       "</table>\n",
       "</div>"
      ],
      "text/plain": [
       "              user        item  raiting      pred\n",
       "0   A2EUH5XN2FKHC3  B00HVQT8WW      5.0  4.632478\n",
       "1   A2EUH5XN2FKHC3  B0017SGUDU      3.0  4.237020\n",
       "2   A2EUH5XN2FKHC3  B007PPI9JC      1.0  3.613002\n",
       "3   A2EUH5XN2FKHC3  B005I5ML0O      NaN  4.548173\n",
       "4    AMMU9VZZ9OSII  B005I5ML0O      5.0  4.144081\n",
       "5    AMMU9VZZ9OSII  B000VHTUKS      3.0  3.987568\n",
       "6    AMMU9VZZ9OSII  B002060PBQ      2.0  3.596234\n",
       "7    AMMU9VZZ9OSII  B007PPI9JC      NaN  3.291260\n",
       "8   A38VV9LBC1N11Z  B0014VYT7O      5.0  4.530838\n",
       "9   A38VV9LBC1N11Z  B00T6PTQ6Y      4.0  4.235796\n",
       "10  A38VV9LBC1N11Z  B01CTPUQW0      NaN  4.415626\n",
       "11  A38VV9LBC1N11Z  B01H1TXCJS      NaN  4.415626"
      ]
     },
     "execution_count": 49,
     "metadata": {},
     "output_type": "execute_result"
    }
   ],
   "source": [
    "pd.DataFrame(pred_res)"
   ]
  },
  {
   "attachments": {},
   "cell_type": "markdown",
   "metadata": {},
   "source": [
    "It is seen, model predict the trand in most cases (low-high raiting). Absolute value have significant difference related to real rating. It is not nessesary to predict raiting with high accuracy, it is important to predict trend and distinguish items with high and low ratings.   "
   ]
  },
  {
   "attachments": {},
   "cell_type": "markdown",
   "metadata": {},
   "source": [
    "### Predict top n"
   ]
  },
  {
   "attachments": {},
   "cell_type": "markdown",
   "metadata": {},
   "source": [
    "Take one user with ~20 raitings and predict items for him. Then show top-20 for him."
   ]
  },
  {
   "cell_type": "code",
   "execution_count": 64,
   "metadata": {},
   "outputs": [
    {
     "data": {
      "text/plain": [
       "reviewerID\n",
       "A3EKSPNHYY9LKA    15\n",
       "A1I8DNTWHA05IE    15\n",
       "AMS8MNG24SJOQ     15\n",
       "A2VW5OCKBBANCC    15\n",
       "AMSZ33JNXMFTB     15\n",
       "                  ..\n",
       "AE8YNK3B1ER06     15\n",
       "AQT5Z5BAU09DH     15\n",
       "A2REWGVQ206NX     15\n",
       "A17K9QT38J5XE3    15\n",
       "A3QQY4ST6NTPDR    15\n",
       "Name: asin, Length: 3848, dtype: int64"
      ]
     },
     "execution_count": 64,
     "metadata": {},
     "output_type": "execute_result"
    }
   ],
   "source": [
    "users_cnt[users_cnt == 15]"
   ]
  },
  {
   "cell_type": "code",
   "execution_count": 106,
   "metadata": {},
   "outputs": [],
   "source": [
    "user_n_rank = \"A2VW5OCKBBANCC\"\n",
    "\n",
    "items_n_rank_ = df_data_proc.loc[df_data_proc[USER_ID] == user_n_rank, [USER_ID, ITEM_ID, RAITING]][ITEM_ID].to_list()\n",
    "overall_n_rank_ = df_data_proc.loc[df_data_proc[USER_ID] == user_n_rank, [USER_ID, ITEM_ID, RAITING]][RAITING].to_list()\n",
    "item_raitings = df_data_proc[[ITEM_ID, RAITING]].groupby(ITEM_ID).mean().to_dict()['overall']\n",
    "\n",
    "# predict for all items and with 5 items which already reviewed\n",
    "testset_n_rank = [(user_n_rank, item, rank) for (item, rank) in item_raitings.items() if item not in items_n_rank_[:5]]\n",
    "\n",
    "predictions = best_model.test(testset_n_rank)"
   ]
  },
  {
   "cell_type": "code",
   "execution_count": 133,
   "metadata": {},
   "outputs": [
    {
     "name": "stdout",
     "output_type": "stream",
     "text": [
      "user: A2VW5OCKBBANCC\n"
     ]
    },
    {
     "data": {
      "text/html": [
       "<div>\n",
       "<style scoped>\n",
       "    .dataframe tbody tr th:only-of-type {\n",
       "        vertical-align: middle;\n",
       "    }\n",
       "\n",
       "    .dataframe tbody tr th {\n",
       "        vertical-align: top;\n",
       "    }\n",
       "\n",
       "    .dataframe thead th {\n",
       "        text-align: right;\n",
       "    }\n",
       "</style>\n",
       "<table border=\"1\" class=\"dataframe\">\n",
       "  <thead>\n",
       "    <tr style=\"text-align: right;\">\n",
       "      <th></th>\n",
       "      <th>asin</th>\n",
       "      <th>pred</th>\n",
       "      <th>overall</th>\n",
       "      <th>IS REVIEWED</th>\n",
       "    </tr>\n",
       "  </thead>\n",
       "  <tbody>\n",
       "    <tr>\n",
       "      <th>0</th>\n",
       "      <td>B00012M5MS</td>\n",
       "      <td>5</td>\n",
       "      <td>4.572414</td>\n",
       "      <td>False</td>\n",
       "    </tr>\n",
       "    <tr>\n",
       "      <th>1</th>\n",
       "      <td>B0006FLBSO</td>\n",
       "      <td>5</td>\n",
       "      <td>4.474623</td>\n",
       "      <td>False</td>\n",
       "    </tr>\n",
       "    <tr>\n",
       "      <th>2</th>\n",
       "      <td>B000LX7O82</td>\n",
       "      <td>5</td>\n",
       "      <td>4.279762</td>\n",
       "      <td>False</td>\n",
       "    </tr>\n",
       "    <tr>\n",
       "      <th>3</th>\n",
       "      <td>B000LZSC5Y</td>\n",
       "      <td>5</td>\n",
       "      <td>4.279762</td>\n",
       "      <td>False</td>\n",
       "    </tr>\n",
       "    <tr>\n",
       "      <th>4</th>\n",
       "      <td>B000MN6FZO</td>\n",
       "      <td>5</td>\n",
       "      <td>4.423729</td>\n",
       "      <td>False</td>\n",
       "    </tr>\n",
       "    <tr>\n",
       "      <th>5</th>\n",
       "      <td>B000MNBLXU</td>\n",
       "      <td>5</td>\n",
       "      <td>4.423729</td>\n",
       "      <td>False</td>\n",
       "    </tr>\n",
       "    <tr>\n",
       "      <th>6</th>\n",
       "      <td>B000PL709I</td>\n",
       "      <td>5</td>\n",
       "      <td>4.501099</td>\n",
       "      <td>False</td>\n",
       "    </tr>\n",
       "    <tr>\n",
       "      <th>7</th>\n",
       "      <td>B000YBAKU0</td>\n",
       "      <td>5</td>\n",
       "      <td>4.368859</td>\n",
       "      <td>False</td>\n",
       "    </tr>\n",
       "    <tr>\n",
       "      <th>8</th>\n",
       "      <td>B000YIEX42</td>\n",
       "      <td>5</td>\n",
       "      <td>4.279762</td>\n",
       "      <td>False</td>\n",
       "    </tr>\n",
       "    <tr>\n",
       "      <th>9</th>\n",
       "      <td>B0012KT5GM</td>\n",
       "      <td>5</td>\n",
       "      <td>4.494737</td>\n",
       "      <td>False</td>\n",
       "    </tr>\n",
       "    <tr>\n",
       "      <th>10</th>\n",
       "      <td>B0013G8OMG</td>\n",
       "      <td>5</td>\n",
       "      <td>4.368859</td>\n",
       "      <td>False</td>\n",
       "    </tr>\n",
       "    <tr>\n",
       "      <th>11</th>\n",
       "      <td>B00168PI4S</td>\n",
       "      <td>5</td>\n",
       "      <td>4.404612</td>\n",
       "      <td>False</td>\n",
       "    </tr>\n",
       "    <tr>\n",
       "      <th>12</th>\n",
       "      <td>B001AMJFIK</td>\n",
       "      <td>5</td>\n",
       "      <td>4.277612</td>\n",
       "      <td>False</td>\n",
       "    </tr>\n",
       "    <tr>\n",
       "      <th>13</th>\n",
       "      <td>B001B8ONZI</td>\n",
       "      <td>5</td>\n",
       "      <td>4.300300</td>\n",
       "      <td>False</td>\n",
       "    </tr>\n",
       "    <tr>\n",
       "      <th>14</th>\n",
       "      <td>B001C65SHG</td>\n",
       "      <td>5</td>\n",
       "      <td>3.967742</td>\n",
       "      <td>False</td>\n",
       "    </tr>\n",
       "    <tr>\n",
       "      <th>15</th>\n",
       "      <td>B001G63BGC</td>\n",
       "      <td>5</td>\n",
       "      <td>3.967742</td>\n",
       "      <td>False</td>\n",
       "    </tr>\n",
       "    <tr>\n",
       "      <th>16</th>\n",
       "      <td>B00200E0HM</td>\n",
       "      <td>5</td>\n",
       "      <td>4.300383</td>\n",
       "      <td>False</td>\n",
       "    </tr>\n",
       "    <tr>\n",
       "      <th>17</th>\n",
       "      <td>B0048KGFHU</td>\n",
       "      <td>5</td>\n",
       "      <td>4.231764</td>\n",
       "      <td>False</td>\n",
       "    </tr>\n",
       "    <tr>\n",
       "      <th>18</th>\n",
       "      <td>B0063R2C1E</td>\n",
       "      <td>5</td>\n",
       "      <td>4.366057</td>\n",
       "      <td>False</td>\n",
       "    </tr>\n",
       "    <tr>\n",
       "      <th>19</th>\n",
       "      <td>B007S088F4</td>\n",
       "      <td>5</td>\n",
       "      <td>4.152652</td>\n",
       "      <td>False</td>\n",
       "    </tr>\n",
       "  </tbody>\n",
       "</table>\n",
       "</div>"
      ],
      "text/plain": [
       "          asin  pred   overall  IS REVIEWED\n",
       "0   B00012M5MS     5  4.572414        False\n",
       "1   B0006FLBSO     5  4.474623        False\n",
       "2   B000LX7O82     5  4.279762        False\n",
       "3   B000LZSC5Y     5  4.279762        False\n",
       "4   B000MN6FZO     5  4.423729        False\n",
       "5   B000MNBLXU     5  4.423729        False\n",
       "6   B000PL709I     5  4.501099        False\n",
       "7   B000YBAKU0     5  4.368859        False\n",
       "8   B000YIEX42     5  4.279762        False\n",
       "9   B0012KT5GM     5  4.494737        False\n",
       "10  B0013G8OMG     5  4.368859        False\n",
       "11  B00168PI4S     5  4.404612        False\n",
       "12  B001AMJFIK     5  4.277612        False\n",
       "13  B001B8ONZI     5  4.300300        False\n",
       "14  B001C65SHG     5  3.967742        False\n",
       "15  B001G63BGC     5  3.967742        False\n",
       "16  B00200E0HM     5  4.300383        False\n",
       "17  B0048KGFHU     5  4.231764        False\n",
       "18  B0063R2C1E     5  4.366057        False\n",
       "19  B007S088F4     5  4.152652        False"
      ]
     },
     "execution_count": 133,
     "metadata": {},
     "output_type": "execute_result"
    }
   ],
   "source": [
    "top_n = get_top_n(predictions, n=20)\n",
    "df_top_n = pd.DataFrame(top_n[user_n_rank], columns=[ITEM_ID, \"pred\"])\n",
    "df_top_n.loc[:, RAITING] = [item_raitings[item] for item in df_top_n[ITEM_ID]]\n",
    "df_top_n.loc[:, \"IS REVIEWED\"] = [False if item in items_n_rank_ else False for item in df_top_n[ITEM_ID]]\n",
    "print(\"user:\", user_n_rank)\n",
    "df_top_n"
   ]
  },
  {
   "attachments": {},
   "cell_type": "markdown",
   "metadata": {},
   "source": [
    "# 7. Create second-order model"
   ]
  },
  {
   "attachments": {},
   "cell_type": "markdown",
   "metadata": {},
   "source": [
    "### Create feature from predictions"
   ]
  },
  {
   "cell_type": "code",
   "execution_count": 160,
   "metadata": {},
   "outputs": [],
   "source": [
    "predictions = [] \n",
    "for uid, iid in zip(df_data_proc[USER_ID].to_list(), df_data_proc[ITEM_ID].to_list()):\n",
    "    predictions.append(best_model.predict(uid, iid).est)\n",
    "    \n",
    "df_data_proc[REC_COL] = predictions\n",
    "\n",
    "# df_data_proc.to_csv(DATA_FOLDER + \"df_data_inter.csv\", index=False)"
   ]
  },
  {
   "attachments": {},
   "cell_type": "markdown",
   "metadata": {},
   "source": [
    "### Transform target (classification task)"
   ]
  },
  {
   "attachments": {},
   "cell_type": "markdown",
   "metadata": {},
   "source": [
    "Split train and target"
   ]
  },
  {
   "cell_type": "code",
   "execution_count": 45,
   "metadata": {},
   "outputs": [],
   "source": [
    "# To not train model recomendation model again\n",
    "# df_data_proc = pd.read_csv(\"df_data_inter.csv\")\n",
    "\n",
    "X_full = df_data_proc[[USER_ID, ITEM_ID] + TRAIN_COLS]\n",
    "y_full = df_data_proc[RAITING]\n",
    "\n",
    "assert len(y_full) == len(X_full)"
   ]
  },
  {
   "attachments": {},
   "cell_type": "markdown",
   "metadata": {},
   "source": [
    "If to resolve Classification ptoblem. Let's predict class 1 to 5 (regression problem is also possible: e.g. if raiting 5 - recomend it, otherwise - not)"
   ]
  },
  {
   "cell_type": "code",
   "execution_count": 14,
   "metadata": {},
   "outputs": [],
   "source": [
    "# le = LabelEncoder()\n",
    "# y_full = le.fit_transform(y_full)"
   ]
  },
  {
   "attachments": {},
   "cell_type": "markdown",
   "metadata": {},
   "source": [
    "Regression problem was chosen to optimize MAE"
   ]
  },
  {
   "attachments": {},
   "cell_type": "markdown",
   "metadata": {},
   "source": [
    "### Pretransform features"
   ]
  },
  {
   "attachments": {},
   "cell_type": "markdown",
   "metadata": {},
   "source": [
    "Fill nan's in text"
   ]
  },
  {
   "cell_type": "code",
   "execution_count": 47,
   "metadata": {},
   "outputs": [
    {
     "name": "stderr",
     "output_type": "stream",
     "text": [
      "C:\\Users\\parshin_sa2\\AppData\\Local\\Temp\\ipykernel_21180\\1499784349.py:1: SettingWithCopyWarning: \n",
      "A value is trying to be set on a copy of a slice from a DataFrame\n",
      "\n",
      "See the caveats in the documentation: https://pandas.pydata.org/pandas-docs/stable/user_guide/indexing.html#returning-a-view-versus-a-copy\n",
      "  X_full.loc[:, VEC_COL].fillna('', inplace=True)\n"
     ]
    }
   ],
   "source": [
    "X_full.loc[:, VEC_COL].fillna('', inplace=True)"
   ]
  },
  {
   "attachments": {},
   "cell_type": "markdown",
   "metadata": {},
   "source": [
    "Change bool to int"
   ]
  },
  {
   "cell_type": "code",
   "execution_count": 48,
   "metadata": {},
   "outputs": [],
   "source": [
    "X_full.loc[:,BOOL_COL] = X_full.loc[:,BOOL_COL].apply(int)"
   ]
  },
  {
   "attachments": {},
   "cell_type": "markdown",
   "metadata": {},
   "source": [
    "### Train-test split"
   ]
  },
  {
   "cell_type": "code",
   "execution_count": 156,
   "metadata": {},
   "outputs": [],
   "source": [
    "X_train_raw, X_test_raw = X_full[:TRESHOLD], X_full[TRESHOLD:]\n",
    "y_train, y_test = y_full[:TRESHOLD], y_full[TRESHOLD:]\n",
    "\n",
    "assert len(y_train) == len(X_train_raw)\n",
    "assert len(y_test) == len(X_test_raw)"
   ]
  },
  {
   "attachments": {},
   "cell_type": "markdown",
   "metadata": {},
   "source": [
    "### Create vectorized features"
   ]
  },
  {
   "attachments": {},
   "cell_type": "markdown",
   "metadata": {},
   "source": [
    "TI-IDF is very big to tranfer into sparse format"
   ]
  },
  {
   "cell_type": "code",
   "execution_count": 29,
   "metadata": {},
   "outputs": [],
   "source": [
    "vectorizer = Word2Vec(X_train_raw[VEC_COL], vector_size=VECTOR_SIZE, workers=-1)\n",
    "emb_cols = [f\"emb{i}\" for i in range(VECTOR_SIZE)]\n",
    "\n",
    "X_train_embeddings = pd.DataFrame(\n",
    "    [get_embedding(text, vectorizer) for text in X_train[VEC_COL]], \n",
    "    columns=emb_cols,\n",
    "    index=X_train_raw.index)\n",
    "X_test_embeddings = pd.DataFrame(\n",
    "    [get_embedding(text, vectorizer) for text in X_test[VEC_COL]],\n",
    "    columns=emb_cols,\n",
    "    index=X_test_raw.index)\n",
    "\n",
    "X_train_raw = pd.concat([X_train_raw.drop(VEC_COL, axis=1), X_train_embeddings], axis=1)\n",
    "X_test_raw = pd.concat([X_test_raw.drop(VEC_COL, axis=1), X_test_embeddings], axis=1)"
   ]
  },
  {
   "attachments": {},
   "cell_type": "markdown",
   "metadata": {},
   "source": [
    "### Create user and item specific features"
   ]
  },
  {
   "attachments": {},
   "cell_type": "markdown",
   "metadata": {},
   "source": [
    "Because all features except REC_COL and names itself of test set are not available (it is future), test features are going to be generated from trainset. If user or item is unknow - it would have \"common\"/mean uer and item features.   \n",
    "\n",
    "P.S. It is also better to add some common users and items in trainset"
   ]
  },
  {
   "cell_type": "code",
   "execution_count": 305,
   "metadata": {},
   "outputs": [],
   "source": [
    "common_frac = 0.1 # fraction of common examples in trainset\n",
    "\n",
    "agg_cols = {emb: \"sum\" for emb in emb_cols}\n",
    "agg_cols.update({\"verified\": \"sum\",\n",
    "                 \"review_count\": \"sum\",\n",
    "                 \"raiting_confidence\": \"mean\",\n",
    "                 \"unixReviewTime\": \"last\"})\n",
    "\n",
    "X_train_user_groubed, X_test_user_groubed, common_user = create_id_specific_features(\n",
    "    X_train_raw, X_test_raw, USER_ID, agg_cols, \"_user\", common_frac, SEED)\n",
    "X_train_item_grouped, X_test_item_groubed, common_item = create_id_specific_features(\n",
    "    X_train_raw, X_test_raw, ITEM_ID, agg_cols, \"_item\",  common_frac, SEED)\n",
    "\n",
    "X_train = pd.concat([\n",
    "    X_train_user_groubed.loc[:, X_train_user_groubed.columns != USER_ID],\n",
    "    X_train_item_grouped.loc[:, X_train_item_grouped.columns != ITEM_ID],\n",
    "    X_train_raw[REC_COL]], axis=1)\n",
    "X_test = pd.concat([X_test_user_groubed, X_test_item_groubed, X_test_raw[REC_COL]], axis=1)"
   ]
  },
  {
   "cell_type": "code",
   "execution_count": 306,
   "metadata": {},
   "outputs": [],
   "source": [
    "# Check algorithm for user A2EUH5XN2FKHC3\n",
    "assert (X_train_user_groubed.loc[183928, :] == X_train_user_groubed.loc[184176, :]).all()\n",
    "assert X_train_user_groubed.loc[183928, USER_ID] == X_train_raw.loc[183928, USER_ID]\n",
    "\n",
    "# Check algorithm for B002060PBQ\n",
    "assert (X_train_item_grouped.loc[419702, :] == X_train_item_grouped.loc[1138855, :]).all()\n",
    "assert X_train_item_grouped.loc[419702, ITEM_ID] == X_train_raw.loc[1138855, ITEM_ID]"
   ]
  },
  {
   "attachments": {},
   "cell_type": "markdown",
   "metadata": {},
   "source": [
    "### Create prediction model"
   ]
  },
  {
   "cell_type": "code",
   "execution_count": 170,
   "metadata": {},
   "outputs": [],
   "source": [
    "df_train_num_cols = X_train.columns.to_list()\n",
    "df_train_cat_cols = []"
   ]
  },
  {
   "cell_type": "code",
   "execution_count": 200,
   "metadata": {},
   "outputs": [
    {
     "data": {
      "text/html": [
       "<style>#sk-container-id-9 {color: black;}#sk-container-id-9 pre{padding: 0;}#sk-container-id-9 div.sk-toggleable {background-color: white;}#sk-container-id-9 label.sk-toggleable__label {cursor: pointer;display: block;width: 100%;margin-bottom: 0;padding: 0.3em;box-sizing: border-box;text-align: center;}#sk-container-id-9 label.sk-toggleable__label-arrow:before {content: \"▸\";float: left;margin-right: 0.25em;color: #696969;}#sk-container-id-9 label.sk-toggleable__label-arrow:hover:before {color: black;}#sk-container-id-9 div.sk-estimator:hover label.sk-toggleable__label-arrow:before {color: black;}#sk-container-id-9 div.sk-toggleable__content {max-height: 0;max-width: 0;overflow: hidden;text-align: left;background-color: #f0f8ff;}#sk-container-id-9 div.sk-toggleable__content pre {margin: 0.2em;color: black;border-radius: 0.25em;background-color: #f0f8ff;}#sk-container-id-9 input.sk-toggleable__control:checked~div.sk-toggleable__content {max-height: 200px;max-width: 100%;overflow: auto;}#sk-container-id-9 input.sk-toggleable__control:checked~label.sk-toggleable__label-arrow:before {content: \"▾\";}#sk-container-id-9 div.sk-estimator input.sk-toggleable__control:checked~label.sk-toggleable__label {background-color: #d4ebff;}#sk-container-id-9 div.sk-label input.sk-toggleable__control:checked~label.sk-toggleable__label {background-color: #d4ebff;}#sk-container-id-9 input.sk-hidden--visually {border: 0;clip: rect(1px 1px 1px 1px);clip: rect(1px, 1px, 1px, 1px);height: 1px;margin: -1px;overflow: hidden;padding: 0;position: absolute;width: 1px;}#sk-container-id-9 div.sk-estimator {font-family: monospace;background-color: #f0f8ff;border: 1px dotted black;border-radius: 0.25em;box-sizing: border-box;margin-bottom: 0.5em;}#sk-container-id-9 div.sk-estimator:hover {background-color: #d4ebff;}#sk-container-id-9 div.sk-parallel-item::after {content: \"\";width: 100%;border-bottom: 1px solid gray;flex-grow: 1;}#sk-container-id-9 div.sk-label:hover label.sk-toggleable__label {background-color: #d4ebff;}#sk-container-id-9 div.sk-serial::before {content: \"\";position: absolute;border-left: 1px solid gray;box-sizing: border-box;top: 0;bottom: 0;left: 50%;z-index: 0;}#sk-container-id-9 div.sk-serial {display: flex;flex-direction: column;align-items: center;background-color: white;padding-right: 0.2em;padding-left: 0.2em;position: relative;}#sk-container-id-9 div.sk-item {position: relative;z-index: 1;}#sk-container-id-9 div.sk-parallel {display: flex;align-items: stretch;justify-content: center;background-color: white;position: relative;}#sk-container-id-9 div.sk-item::before, #sk-container-id-9 div.sk-parallel-item::before {content: \"\";position: absolute;border-left: 1px solid gray;box-sizing: border-box;top: 0;bottom: 0;left: 50%;z-index: -1;}#sk-container-id-9 div.sk-parallel-item {display: flex;flex-direction: column;z-index: 1;position: relative;background-color: white;}#sk-container-id-9 div.sk-parallel-item:first-child::after {align-self: flex-end;width: 50%;}#sk-container-id-9 div.sk-parallel-item:last-child::after {align-self: flex-start;width: 50%;}#sk-container-id-9 div.sk-parallel-item:only-child::after {width: 0;}#sk-container-id-9 div.sk-dashed-wrapped {border: 1px dashed gray;margin: 0 0.4em 0.5em 0.4em;box-sizing: border-box;padding-bottom: 0.4em;background-color: white;}#sk-container-id-9 div.sk-label label {font-family: monospace;font-weight: bold;display: inline-block;line-height: 1.2em;}#sk-container-id-9 div.sk-label-container {text-align: center;}#sk-container-id-9 div.sk-container {/* jupyter's `normalize.less` sets `[hidden] { display: none; }` but bootstrap.min.css set `[hidden] { display: none !important; }` so we also need the `!important` here to be able to override the default hidden behavior on the sphinx rendered scikit-learn.org. See: https://github.com/scikit-learn/scikit-learn/issues/21755 */display: inline-block !important;position: relative;}#sk-container-id-9 div.sk-text-repr-fallback {display: none;}</style><div id=\"sk-container-id-9\" class=\"sk-top-container\"><div class=\"sk-text-repr-fallback\"><pre>Pipeline(steps=[(&#x27;preprocessor&#x27;,\n",
       "                 ColumnTransformer(transformers=[(&#x27;num&#x27;,\n",
       "                                                  Pipeline(steps=[(&#x27;imputer&#x27;,\n",
       "                                                                   SimpleImputer(strategy=&#x27;median&#x27;)),\n",
       "                                                                  (&#x27;scaler&#x27;,\n",
       "                                                                   StandardScaler())]),\n",
       "                                                  [&#x27;emb0_user&#x27;, &#x27;emb1_user&#x27;,\n",
       "                                                   &#x27;emb2_user&#x27;, &#x27;emb3_user&#x27;,\n",
       "                                                   &#x27;emb4_user&#x27;, &#x27;emb5_user&#x27;,\n",
       "                                                   &#x27;emb6_user&#x27;, &#x27;emb7_user&#x27;,\n",
       "                                                   &#x27;emb8_user&#x27;, &#x27;emb9_user&#x27;,\n",
       "                                                   &#x27;emb10_user&#x27;, &#x27;emb11_user&#x27;,\n",
       "                                                   &#x27;emb12_user&#x27;, &#x27;emb13_user&#x27;,\n",
       "                                                   &#x27;emb14_user&#x27;, &#x27;e...\n",
       "                                                   &#x27;unixReviewTime_user&#x27;,\n",
       "                                                   &#x27;emb0_item&#x27;, &#x27;emb1_item&#x27;,\n",
       "                                                   &#x27;emb2_item&#x27;, &#x27;emb3_item&#x27;,\n",
       "                                                   &#x27;emb4_item&#x27;, &#x27;emb5_item&#x27;, ...]),\n",
       "                                                 (&#x27;cat&#x27;,\n",
       "                                                  Pipeline(steps=[(&#x27;encoder&#x27;,\n",
       "                                                                   BinaryEncoder(drop_invariant=True)),\n",
       "                                                                  (&#x27;imputer&#x27;,\n",
       "                                                                   SimpleImputer(strategy=&#x27;most_frequent&#x27;)),\n",
       "                                                                  (&#x27;scaler&#x27;,\n",
       "                                                                   StandardScaler())]),\n",
       "                                                  [])])),\n",
       "                (&#x27;feature_selector&#x27;,\n",
       "                 VarianceThreshold(threshold=0.00990000000000001)),\n",
       "                (&#x27;classifier&#x27;, RandomForestRegressor())])</pre><b>In a Jupyter environment, please rerun this cell to show the HTML representation or trust the notebook. <br />On GitHub, the HTML representation is unable to render, please try loading this page with nbviewer.org.</b></div><div class=\"sk-container\" hidden><div class=\"sk-item sk-dashed-wrapped\"><div class=\"sk-label-container\"><div class=\"sk-label sk-toggleable\"><input class=\"sk-toggleable__control sk-hidden--visually\" id=\"sk-estimator-id-89\" type=\"checkbox\" ><label for=\"sk-estimator-id-89\" class=\"sk-toggleable__label sk-toggleable__label-arrow\">Pipeline</label><div class=\"sk-toggleable__content\"><pre>Pipeline(steps=[(&#x27;preprocessor&#x27;,\n",
       "                 ColumnTransformer(transformers=[(&#x27;num&#x27;,\n",
       "                                                  Pipeline(steps=[(&#x27;imputer&#x27;,\n",
       "                                                                   SimpleImputer(strategy=&#x27;median&#x27;)),\n",
       "                                                                  (&#x27;scaler&#x27;,\n",
       "                                                                   StandardScaler())]),\n",
       "                                                  [&#x27;emb0_user&#x27;, &#x27;emb1_user&#x27;,\n",
       "                                                   &#x27;emb2_user&#x27;, &#x27;emb3_user&#x27;,\n",
       "                                                   &#x27;emb4_user&#x27;, &#x27;emb5_user&#x27;,\n",
       "                                                   &#x27;emb6_user&#x27;, &#x27;emb7_user&#x27;,\n",
       "                                                   &#x27;emb8_user&#x27;, &#x27;emb9_user&#x27;,\n",
       "                                                   &#x27;emb10_user&#x27;, &#x27;emb11_user&#x27;,\n",
       "                                                   &#x27;emb12_user&#x27;, &#x27;emb13_user&#x27;,\n",
       "                                                   &#x27;emb14_user&#x27;, &#x27;e...\n",
       "                                                   &#x27;unixReviewTime_user&#x27;,\n",
       "                                                   &#x27;emb0_item&#x27;, &#x27;emb1_item&#x27;,\n",
       "                                                   &#x27;emb2_item&#x27;, &#x27;emb3_item&#x27;,\n",
       "                                                   &#x27;emb4_item&#x27;, &#x27;emb5_item&#x27;, ...]),\n",
       "                                                 (&#x27;cat&#x27;,\n",
       "                                                  Pipeline(steps=[(&#x27;encoder&#x27;,\n",
       "                                                                   BinaryEncoder(drop_invariant=True)),\n",
       "                                                                  (&#x27;imputer&#x27;,\n",
       "                                                                   SimpleImputer(strategy=&#x27;most_frequent&#x27;)),\n",
       "                                                                  (&#x27;scaler&#x27;,\n",
       "                                                                   StandardScaler())]),\n",
       "                                                  [])])),\n",
       "                (&#x27;feature_selector&#x27;,\n",
       "                 VarianceThreshold(threshold=0.00990000000000001)),\n",
       "                (&#x27;classifier&#x27;, RandomForestRegressor())])</pre></div></div></div><div class=\"sk-serial\"><div class=\"sk-item sk-dashed-wrapped\"><div class=\"sk-label-container\"><div class=\"sk-label sk-toggleable\"><input class=\"sk-toggleable__control sk-hidden--visually\" id=\"sk-estimator-id-90\" type=\"checkbox\" ><label for=\"sk-estimator-id-90\" class=\"sk-toggleable__label sk-toggleable__label-arrow\">preprocessor: ColumnTransformer</label><div class=\"sk-toggleable__content\"><pre>ColumnTransformer(transformers=[(&#x27;num&#x27;,\n",
       "                                 Pipeline(steps=[(&#x27;imputer&#x27;,\n",
       "                                                  SimpleImputer(strategy=&#x27;median&#x27;)),\n",
       "                                                 (&#x27;scaler&#x27;, StandardScaler())]),\n",
       "                                 [&#x27;emb0_user&#x27;, &#x27;emb1_user&#x27;, &#x27;emb2_user&#x27;,\n",
       "                                  &#x27;emb3_user&#x27;, &#x27;emb4_user&#x27;, &#x27;emb5_user&#x27;,\n",
       "                                  &#x27;emb6_user&#x27;, &#x27;emb7_user&#x27;, &#x27;emb8_user&#x27;,\n",
       "                                  &#x27;emb9_user&#x27;, &#x27;emb10_user&#x27;, &#x27;emb11_user&#x27;,\n",
       "                                  &#x27;emb12_user&#x27;, &#x27;emb13_user&#x27;, &#x27;emb14_user&#x27;,\n",
       "                                  &#x27;emb15_user&#x27;, &#x27;emb16_user&#x27;, &#x27;emb17_user&#x27;,\n",
       "                                  &#x27;emb18_user&#x27;, &#x27;emb19_user&#x27;, &#x27;verified_user&#x27;,\n",
       "                                  &#x27;review_count_user&#x27;,\n",
       "                                  &#x27;raiting_confidence_user&#x27;,\n",
       "                                  &#x27;unixReviewTime_user&#x27;, &#x27;emb0_item&#x27;,\n",
       "                                  &#x27;emb1_item&#x27;, &#x27;emb2_item&#x27;, &#x27;emb3_item&#x27;,\n",
       "                                  &#x27;emb4_item&#x27;, &#x27;emb5_item&#x27;, ...]),\n",
       "                                (&#x27;cat&#x27;,\n",
       "                                 Pipeline(steps=[(&#x27;encoder&#x27;,\n",
       "                                                  BinaryEncoder(drop_invariant=True)),\n",
       "                                                 (&#x27;imputer&#x27;,\n",
       "                                                  SimpleImputer(strategy=&#x27;most_frequent&#x27;)),\n",
       "                                                 (&#x27;scaler&#x27;, StandardScaler())]),\n",
       "                                 [])])</pre></div></div></div><div class=\"sk-parallel\"><div class=\"sk-parallel-item\"><div class=\"sk-item\"><div class=\"sk-label-container\"><div class=\"sk-label sk-toggleable\"><input class=\"sk-toggleable__control sk-hidden--visually\" id=\"sk-estimator-id-91\" type=\"checkbox\" ><label for=\"sk-estimator-id-91\" class=\"sk-toggleable__label sk-toggleable__label-arrow\">num</label><div class=\"sk-toggleable__content\"><pre>[&#x27;emb0_user&#x27;, &#x27;emb1_user&#x27;, &#x27;emb2_user&#x27;, &#x27;emb3_user&#x27;, &#x27;emb4_user&#x27;, &#x27;emb5_user&#x27;, &#x27;emb6_user&#x27;, &#x27;emb7_user&#x27;, &#x27;emb8_user&#x27;, &#x27;emb9_user&#x27;, &#x27;emb10_user&#x27;, &#x27;emb11_user&#x27;, &#x27;emb12_user&#x27;, &#x27;emb13_user&#x27;, &#x27;emb14_user&#x27;, &#x27;emb15_user&#x27;, &#x27;emb16_user&#x27;, &#x27;emb17_user&#x27;, &#x27;emb18_user&#x27;, &#x27;emb19_user&#x27;, &#x27;verified_user&#x27;, &#x27;review_count_user&#x27;, &#x27;raiting_confidence_user&#x27;, &#x27;unixReviewTime_user&#x27;, &#x27;emb0_item&#x27;, &#x27;emb1_item&#x27;, &#x27;emb2_item&#x27;, &#x27;emb3_item&#x27;, &#x27;emb4_item&#x27;, &#x27;emb5_item&#x27;, &#x27;emb6_item&#x27;, &#x27;emb7_item&#x27;, &#x27;emb8_item&#x27;, &#x27;emb9_item&#x27;, &#x27;emb10_item&#x27;, &#x27;emb11_item&#x27;, &#x27;emb12_item&#x27;, &#x27;emb13_item&#x27;, &#x27;emb14_item&#x27;, &#x27;emb15_item&#x27;, &#x27;emb16_item&#x27;, &#x27;emb17_item&#x27;, &#x27;emb18_item&#x27;, &#x27;emb19_item&#x27;, &#x27;verified_item&#x27;, &#x27;review_count_item&#x27;, &#x27;raiting_confidence_item&#x27;, &#x27;unixReviewTime_item&#x27;, &#x27;recom&#x27;]</pre></div></div></div><div class=\"sk-serial\"><div class=\"sk-item\"><div class=\"sk-serial\"><div class=\"sk-item\"><div class=\"sk-estimator sk-toggleable\"><input class=\"sk-toggleable__control sk-hidden--visually\" id=\"sk-estimator-id-92\" type=\"checkbox\" ><label for=\"sk-estimator-id-92\" class=\"sk-toggleable__label sk-toggleable__label-arrow\">SimpleImputer</label><div class=\"sk-toggleable__content\"><pre>SimpleImputer(strategy=&#x27;median&#x27;)</pre></div></div></div><div class=\"sk-item\"><div class=\"sk-estimator sk-toggleable\"><input class=\"sk-toggleable__control sk-hidden--visually\" id=\"sk-estimator-id-93\" type=\"checkbox\" ><label for=\"sk-estimator-id-93\" class=\"sk-toggleable__label sk-toggleable__label-arrow\">StandardScaler</label><div class=\"sk-toggleable__content\"><pre>StandardScaler()</pre></div></div></div></div></div></div></div></div><div class=\"sk-parallel-item\"><div class=\"sk-item\"><div class=\"sk-label-container\"><div class=\"sk-label sk-toggleable\"><input class=\"sk-toggleable__control sk-hidden--visually\" id=\"sk-estimator-id-94\" type=\"checkbox\" ><label for=\"sk-estimator-id-94\" class=\"sk-toggleable__label sk-toggleable__label-arrow\">cat</label><div class=\"sk-toggleable__content\"><pre>[]</pre></div></div></div><div class=\"sk-serial\"><div class=\"sk-item\"><div class=\"sk-serial\"><div class=\"sk-item\"><div class=\"sk-estimator sk-toggleable\"><input class=\"sk-toggleable__control sk-hidden--visually\" id=\"sk-estimator-id-95\" type=\"checkbox\" ><label for=\"sk-estimator-id-95\" class=\"sk-toggleable__label sk-toggleable__label-arrow\">BinaryEncoder</label><div class=\"sk-toggleable__content\"><pre>BinaryEncoder(drop_invariant=True)</pre></div></div></div><div class=\"sk-item\"><div class=\"sk-estimator sk-toggleable\"><input class=\"sk-toggleable__control sk-hidden--visually\" id=\"sk-estimator-id-96\" type=\"checkbox\" ><label for=\"sk-estimator-id-96\" class=\"sk-toggleable__label sk-toggleable__label-arrow\">SimpleImputer</label><div class=\"sk-toggleable__content\"><pre>SimpleImputer(strategy=&#x27;most_frequent&#x27;)</pre></div></div></div><div class=\"sk-item\"><div class=\"sk-estimator sk-toggleable\"><input class=\"sk-toggleable__control sk-hidden--visually\" id=\"sk-estimator-id-97\" type=\"checkbox\" ><label for=\"sk-estimator-id-97\" class=\"sk-toggleable__label sk-toggleable__label-arrow\">StandardScaler</label><div class=\"sk-toggleable__content\"><pre>StandardScaler()</pre></div></div></div></div></div></div></div></div></div></div><div class=\"sk-item\"><div class=\"sk-estimator sk-toggleable\"><input class=\"sk-toggleable__control sk-hidden--visually\" id=\"sk-estimator-id-98\" type=\"checkbox\" ><label for=\"sk-estimator-id-98\" class=\"sk-toggleable__label sk-toggleable__label-arrow\">VarianceThreshold</label><div class=\"sk-toggleable__content\"><pre>VarianceThreshold(threshold=0.00990000000000001)</pre></div></div></div><div class=\"sk-item\"><div class=\"sk-estimator sk-toggleable\"><input class=\"sk-toggleable__control sk-hidden--visually\" id=\"sk-estimator-id-99\" type=\"checkbox\" ><label for=\"sk-estimator-id-99\" class=\"sk-toggleable__label sk-toggleable__label-arrow\">RandomForestRegressor</label><div class=\"sk-toggleable__content\"><pre>RandomForestRegressor()</pre></div></div></div></div></div></div></div>"
      ],
      "text/plain": [
       "Pipeline(steps=[('preprocessor',\n",
       "                 ColumnTransformer(transformers=[('num',\n",
       "                                                  Pipeline(steps=[('imputer',\n",
       "                                                                   SimpleImputer(strategy='median')),\n",
       "                                                                  ('scaler',\n",
       "                                                                   StandardScaler())]),\n",
       "                                                  ['emb0_user', 'emb1_user',\n",
       "                                                   'emb2_user', 'emb3_user',\n",
       "                                                   'emb4_user', 'emb5_user',\n",
       "                                                   'emb6_user', 'emb7_user',\n",
       "                                                   'emb8_user', 'emb9_user',\n",
       "                                                   'emb10_user', 'emb11_user',\n",
       "                                                   'emb12_user', 'emb13_user',\n",
       "                                                   'emb14_user', 'e...\n",
       "                                                   'unixReviewTime_user',\n",
       "                                                   'emb0_item', 'emb1_item',\n",
       "                                                   'emb2_item', 'emb3_item',\n",
       "                                                   'emb4_item', 'emb5_item', ...]),\n",
       "                                                 ('cat',\n",
       "                                                  Pipeline(steps=[('encoder',\n",
       "                                                                   BinaryEncoder(drop_invariant=True)),\n",
       "                                                                  ('imputer',\n",
       "                                                                   SimpleImputer(strategy='most_frequent')),\n",
       "                                                                  ('scaler',\n",
       "                                                                   StandardScaler())]),\n",
       "                                                  [])])),\n",
       "                ('feature_selector',\n",
       "                 VarianceThreshold(threshold=0.00990000000000001)),\n",
       "                ('classifier', RandomForestRegressor())])"
      ]
     },
     "execution_count": 200,
     "metadata": {},
     "output_type": "execute_result"
    }
   ],
   "source": [
    "numeric_transformer = Pipeline(\n",
    "    steps=[(\"imputer\", SimpleImputer(strategy=\"median\")), \n",
    "           (\"scaler\", StandardScaler())\n",
    "    ]\n",
    ")\n",
    "\n",
    "categorical_transformer = Pipeline(\n",
    "    steps=[\n",
    "        (\"encoder\", BinaryEncoder(drop_invariant=True)),\n",
    "        (\"imputer\", SimpleImputer(strategy=\"most_frequent\")),\n",
    "        ('scaler', StandardScaler()),\n",
    "    ]\n",
    ")\n",
    "\n",
    "preprocessor = ColumnTransformer(\n",
    "    transformers=[\n",
    "        (\"num\", numeric_transformer, df_train_num_cols),\n",
    "        (\"cat\", categorical_transformer, df_train_cat_cols),\n",
    "    ]\n",
    ")\n",
    "\n",
    "feature_selector = VarianceThreshold(.99 * (1 - .99))\n",
    "# feature_selector = PermutationImportance(LogisticRegression(penalty=\"l1\", solver='liblinear'), scoring=KEY_METRIC_SK, cv=SEED)\n",
    "\n",
    "rlf = Pipeline(\n",
    "    steps=[(\"preprocessor\", preprocessor),\n",
    "           (\"feature_selector\", feature_selector),\n",
    "           (\"classifier\", RandomForestRegressor())]  # RandomForestClassifier()\n",
    ")\n",
    "\n",
    "param_grid = {\n",
    "    'classifier__n_estimators': [20, 50, 100], # np.linspace(-10, 10)\n",
    "    'classifier__max_depth': [10, 20, 30],\n",
    "    'classifier__min_samples_leaf': [10, 15, 20],\n",
    "    'preprocessor__num__imputer__strategy':['median', 'mean']\n",
    "    # 'classifier__class_weight': ['balanced', None],\n",
    "}\n",
    "search = RandomizedSearchCV(rlf,\n",
    "                            param_grid, \n",
    "                            n_iter=NUM_ITER_SC,\n",
    "                            verbose=True, \n",
    "                            n_jobs=-1,\n",
    "                            cv=CV,\n",
    "                            scoring=KEY_METRIC_SK,\n",
    "                            random_state=SEED)\n",
    "\n",
    "rlf"
   ]
  },
  {
   "attachments": {},
   "cell_type": "markdown",
   "metadata": {},
   "source": [
    "### Predict"
   ]
  },
  {
   "cell_type": "code",
   "execution_count": 201,
   "metadata": {},
   "outputs": [
    {
     "name": "stdout",
     "output_type": "stream",
     "text": [
      "Fitting 5 folds for each of 10 candidates, totalling 50 fits\n"
     ]
    },
    {
     "name": "stderr",
     "output_type": "stream",
     "text": [
      "c:\\Users\\parshin_sa2\\Miniconda3\\envs\\otus-reso\\lib\\site-packages\\sklearn\\model_selection\\_validation.py:425: FitFailedWarning: \n",
      "7 fits failed out of a total of 50.\n",
      "The score on these train-test partitions for these parameters will be set to nan.\n",
      "If these failures are not expected, you can try to debug them by setting error_score='raise'.\n",
      "\n",
      "Below are more details about the failures:\n",
      "--------------------------------------------------------------------------------\n",
      "1 fits failed with the following error:\n",
      "Traceback (most recent call last):\n",
      "  File \"c:\\Users\\parshin_sa2\\Miniconda3\\envs\\otus-reso\\lib\\site-packages\\sklearn\\model_selection\\_validation.py\", line 729, in _fit_and_score\n",
      "    estimator.fit(X_train, y_train, **fit_params)\n",
      "  File \"c:\\Users\\parshin_sa2\\Miniconda3\\envs\\otus-reso\\lib\\site-packages\\sklearn\\base.py\", line 1152, in wrapper\n",
      "    return fit_method(estimator, *args, **kwargs)\n",
      "  File \"c:\\Users\\parshin_sa2\\Miniconda3\\envs\\otus-reso\\lib\\site-packages\\sklearn\\pipeline.py\", line 423, in fit\n",
      "    Xt = self._fit(X, y, **fit_params_steps)\n",
      "  File \"c:\\Users\\parshin_sa2\\Miniconda3\\envs\\otus-reso\\lib\\site-packages\\sklearn\\pipeline.py\", line 377, in _fit\n",
      "    X, fitted_transformer = fit_transform_one_cached(\n",
      "  File \"c:\\Users\\parshin_sa2\\Miniconda3\\envs\\otus-reso\\lib\\site-packages\\joblib\\memory.py\", line 353, in __call__\n",
      "    return self.func(*args, **kwargs)\n",
      "  File \"c:\\Users\\parshin_sa2\\Miniconda3\\envs\\otus-reso\\lib\\site-packages\\sklearn\\pipeline.py\", line 957, in _fit_transform_one\n",
      "    res = transformer.fit_transform(X, y, **fit_params)\n",
      "  File \"c:\\Users\\parshin_sa2\\Miniconda3\\envs\\otus-reso\\lib\\site-packages\\sklearn\\utils\\_set_output.py\", line 157, in wrapped\n",
      "    data_to_wrap = f(self, X, *args, **kwargs)\n",
      "  File \"c:\\Users\\parshin_sa2\\Miniconda3\\envs\\otus-reso\\lib\\site-packages\\sklearn\\base.py\", line 1152, in wrapper\n",
      "    return fit_method(estimator, *args, **kwargs)\n",
      "  File \"c:\\Users\\parshin_sa2\\Miniconda3\\envs\\otus-reso\\lib\\site-packages\\sklearn\\compose\\_column_transformer.py\", line 754, in fit_transform\n",
      "    result = self._fit_transform(X, y, _fit_transform_one)\n",
      "  File \"c:\\Users\\parshin_sa2\\Miniconda3\\envs\\otus-reso\\lib\\site-packages\\sklearn\\compose\\_column_transformer.py\", line 681, in _fit_transform\n",
      "    return Parallel(n_jobs=self.n_jobs)(\n",
      "  File \"c:\\Users\\parshin_sa2\\Miniconda3\\envs\\otus-reso\\lib\\site-packages\\sklearn\\utils\\parallel.py\", line 65, in __call__\n",
      "    return super().__call__(iterable_with_config)\n",
      "  File \"c:\\Users\\parshin_sa2\\Miniconda3\\envs\\otus-reso\\lib\\site-packages\\joblib\\parallel.py\", line 1863, in __call__\n",
      "    return output if self.return_generator else list(output)\n",
      "  File \"c:\\Users\\parshin_sa2\\Miniconda3\\envs\\otus-reso\\lib\\site-packages\\joblib\\parallel.py\", line 1792, in _get_sequential_output\n",
      "    res = func(*args, **kwargs)\n",
      "  File \"c:\\Users\\parshin_sa2\\Miniconda3\\envs\\otus-reso\\lib\\site-packages\\sklearn\\utils\\parallel.py\", line 127, in __call__\n",
      "    return self.function(*args, **kwargs)\n",
      "  File \"c:\\Users\\parshin_sa2\\Miniconda3\\envs\\otus-reso\\lib\\site-packages\\sklearn\\pipeline.py\", line 957, in _fit_transform_one\n",
      "    res = transformer.fit_transform(X, y, **fit_params)\n",
      "  File \"c:\\Users\\parshin_sa2\\Miniconda3\\envs\\otus-reso\\lib\\site-packages\\sklearn\\base.py\", line 1152, in wrapper\n",
      "    return fit_method(estimator, *args, **kwargs)\n",
      "  File \"c:\\Users\\parshin_sa2\\Miniconda3\\envs\\otus-reso\\lib\\site-packages\\sklearn\\pipeline.py\", line 471, in fit_transform\n",
      "    Xt = self._fit(X, y, **fit_params_steps)\n",
      "  File \"c:\\Users\\parshin_sa2\\Miniconda3\\envs\\otus-reso\\lib\\site-packages\\sklearn\\pipeline.py\", line 377, in _fit\n",
      "    X, fitted_transformer = fit_transform_one_cached(\n",
      "  File \"c:\\Users\\parshin_sa2\\Miniconda3\\envs\\otus-reso\\lib\\site-packages\\joblib\\memory.py\", line 353, in __call__\n",
      "    return self.func(*args, **kwargs)\n",
      "  File \"c:\\Users\\parshin_sa2\\Miniconda3\\envs\\otus-reso\\lib\\site-packages\\sklearn\\pipeline.py\", line 957, in _fit_transform_one\n",
      "    res = transformer.fit_transform(X, y, **fit_params)\n",
      "  File \"c:\\Users\\parshin_sa2\\Miniconda3\\envs\\otus-reso\\lib\\site-packages\\sklearn\\utils\\_set_output.py\", line 157, in wrapped\n",
      "    data_to_wrap = f(self, X, *args, **kwargs)\n",
      "  File \"c:\\Users\\parshin_sa2\\Miniconda3\\envs\\otus-reso\\lib\\site-packages\\sklearn\\base.py\", line 919, in fit_transform\n",
      "    return self.fit(X, y, **fit_params).transform(X)\n",
      "  File \"c:\\Users\\parshin_sa2\\Miniconda3\\envs\\otus-reso\\lib\\site-packages\\sklearn\\utils\\_set_output.py\", line 157, in wrapped\n",
      "    data_to_wrap = f(self, X, *args, **kwargs)\n",
      "  File \"c:\\Users\\parshin_sa2\\Miniconda3\\envs\\otus-reso\\lib\\site-packages\\sklearn\\impute\\_base.py\", line 530, in transform\n",
      "    X = self._validate_input(X, in_fit=False)\n",
      "  File \"c:\\Users\\parshin_sa2\\Miniconda3\\envs\\otus-reso\\lib\\site-packages\\sklearn\\impute\\_base.py\", line 315, in _validate_input\n",
      "    X = self._validate_data(\n",
      "  File \"c:\\Users\\parshin_sa2\\Miniconda3\\envs\\otus-reso\\lib\\site-packages\\sklearn\\base.py\", line 605, in _validate_data\n",
      "    out = check_array(X, input_name=\"X\", **check_params)\n",
      "  File \"c:\\Users\\parshin_sa2\\Miniconda3\\envs\\otus-reso\\lib\\site-packages\\sklearn\\utils\\validation.py\", line 985, in check_array\n",
      "    if np.may_share_memory(array, array_orig):\n",
      "  File \"<__array_function__ internals>\", line 180, in may_share_memory\n",
      "  File \"c:\\Users\\parshin_sa2\\Miniconda3\\envs\\otus-reso\\lib\\site-packages\\pandas\\core\\generic.py\", line 2083, in __array__\n",
      "    values = self._values\n",
      "  File \"c:\\Users\\parshin_sa2\\Miniconda3\\envs\\otus-reso\\lib\\site-packages\\pandas\\core\\frame.py\", line 1049, in _values\n",
      "    return ensure_wrapped_if_datetimelike(self.values)\n",
      "  File \"c:\\Users\\parshin_sa2\\Miniconda3\\envs\\otus-reso\\lib\\site-packages\\pandas\\core\\frame.py\", line 12284, in values\n",
      "    return self._mgr.as_array()\n",
      "  File \"c:\\Users\\parshin_sa2\\Miniconda3\\envs\\otus-reso\\lib\\site-packages\\pandas\\core\\internals\\managers.py\", line 1656, in as_array\n",
      "    arr = self._interleave(dtype=dtype, na_value=na_value)\n",
      "  File \"c:\\Users\\parshin_sa2\\Miniconda3\\envs\\otus-reso\\lib\\site-packages\\pandas\\core\\internals\\managers.py\", line 1689, in _interleave\n",
      "    result = np.empty(self.shape, dtype=dtype)\n",
      "numpy.core._exceptions._ArrayMemoryError: Unable to allocate 641. MiB for an array with shape (49, 1714948) and data type float64\n",
      "\n",
      "--------------------------------------------------------------------------------\n",
      "1 fits failed with the following error:\n",
      "Traceback (most recent call last):\n",
      "  File \"c:\\Users\\parshin_sa2\\Miniconda3\\envs\\otus-reso\\lib\\site-packages\\sklearn\\model_selection\\_validation.py\", line 729, in _fit_and_score\n",
      "    estimator.fit(X_train, y_train, **fit_params)\n",
      "  File \"c:\\Users\\parshin_sa2\\Miniconda3\\envs\\otus-reso\\lib\\site-packages\\sklearn\\base.py\", line 1152, in wrapper\n",
      "    return fit_method(estimator, *args, **kwargs)\n",
      "  File \"c:\\Users\\parshin_sa2\\Miniconda3\\envs\\otus-reso\\lib\\site-packages\\sklearn\\pipeline.py\", line 423, in fit\n",
      "    Xt = self._fit(X, y, **fit_params_steps)\n",
      "  File \"c:\\Users\\parshin_sa2\\Miniconda3\\envs\\otus-reso\\lib\\site-packages\\sklearn\\pipeline.py\", line 377, in _fit\n",
      "    X, fitted_transformer = fit_transform_one_cached(\n",
      "  File \"c:\\Users\\parshin_sa2\\Miniconda3\\envs\\otus-reso\\lib\\site-packages\\joblib\\memory.py\", line 353, in __call__\n",
      "    return self.func(*args, **kwargs)\n",
      "  File \"c:\\Users\\parshin_sa2\\Miniconda3\\envs\\otus-reso\\lib\\site-packages\\sklearn\\pipeline.py\", line 957, in _fit_transform_one\n",
      "    res = transformer.fit_transform(X, y, **fit_params)\n",
      "  File \"c:\\Users\\parshin_sa2\\Miniconda3\\envs\\otus-reso\\lib\\site-packages\\sklearn\\utils\\_set_output.py\", line 157, in wrapped\n",
      "    data_to_wrap = f(self, X, *args, **kwargs)\n",
      "  File \"c:\\Users\\parshin_sa2\\Miniconda3\\envs\\otus-reso\\lib\\site-packages\\sklearn\\base.py\", line 1152, in wrapper\n",
      "    return fit_method(estimator, *args, **kwargs)\n",
      "  File \"c:\\Users\\parshin_sa2\\Miniconda3\\envs\\otus-reso\\lib\\site-packages\\sklearn\\compose\\_column_transformer.py\", line 754, in fit_transform\n",
      "    result = self._fit_transform(X, y, _fit_transform_one)\n",
      "  File \"c:\\Users\\parshin_sa2\\Miniconda3\\envs\\otus-reso\\lib\\site-packages\\sklearn\\compose\\_column_transformer.py\", line 681, in _fit_transform\n",
      "    return Parallel(n_jobs=self.n_jobs)(\n",
      "  File \"c:\\Users\\parshin_sa2\\Miniconda3\\envs\\otus-reso\\lib\\site-packages\\sklearn\\utils\\parallel.py\", line 65, in __call__\n",
      "    return super().__call__(iterable_with_config)\n",
      "  File \"c:\\Users\\parshin_sa2\\Miniconda3\\envs\\otus-reso\\lib\\site-packages\\joblib\\parallel.py\", line 1863, in __call__\n",
      "    return output if self.return_generator else list(output)\n",
      "  File \"c:\\Users\\parshin_sa2\\Miniconda3\\envs\\otus-reso\\lib\\site-packages\\joblib\\parallel.py\", line 1792, in _get_sequential_output\n",
      "    res = func(*args, **kwargs)\n",
      "  File \"c:\\Users\\parshin_sa2\\Miniconda3\\envs\\otus-reso\\lib\\site-packages\\sklearn\\utils\\parallel.py\", line 127, in __call__\n",
      "    return self.function(*args, **kwargs)\n",
      "  File \"c:\\Users\\parshin_sa2\\Miniconda3\\envs\\otus-reso\\lib\\site-packages\\sklearn\\pipeline.py\", line 957, in _fit_transform_one\n",
      "    res = transformer.fit_transform(X, y, **fit_params)\n",
      "  File \"c:\\Users\\parshin_sa2\\Miniconda3\\envs\\otus-reso\\lib\\site-packages\\sklearn\\base.py\", line 1152, in wrapper\n",
      "    return fit_method(estimator, *args, **kwargs)\n",
      "  File \"c:\\Users\\parshin_sa2\\Miniconda3\\envs\\otus-reso\\lib\\site-packages\\sklearn\\pipeline.py\", line 471, in fit_transform\n",
      "    Xt = self._fit(X, y, **fit_params_steps)\n",
      "  File \"c:\\Users\\parshin_sa2\\Miniconda3\\envs\\otus-reso\\lib\\site-packages\\sklearn\\pipeline.py\", line 377, in _fit\n",
      "    X, fitted_transformer = fit_transform_one_cached(\n",
      "  File \"c:\\Users\\parshin_sa2\\Miniconda3\\envs\\otus-reso\\lib\\site-packages\\joblib\\memory.py\", line 353, in __call__\n",
      "    return self.func(*args, **kwargs)\n",
      "  File \"c:\\Users\\parshin_sa2\\Miniconda3\\envs\\otus-reso\\lib\\site-packages\\sklearn\\pipeline.py\", line 957, in _fit_transform_one\n",
      "    res = transformer.fit_transform(X, y, **fit_params)\n",
      "  File \"c:\\Users\\parshin_sa2\\Miniconda3\\envs\\otus-reso\\lib\\site-packages\\sklearn\\utils\\_set_output.py\", line 157, in wrapped\n",
      "    data_to_wrap = f(self, X, *args, **kwargs)\n",
      "  File \"c:\\Users\\parshin_sa2\\Miniconda3\\envs\\otus-reso\\lib\\site-packages\\sklearn\\base.py\", line 919, in fit_transform\n",
      "    return self.fit(X, y, **fit_params).transform(X)\n",
      "  File \"c:\\Users\\parshin_sa2\\Miniconda3\\envs\\otus-reso\\lib\\site-packages\\sklearn\\utils\\_set_output.py\", line 157, in wrapped\n",
      "    data_to_wrap = f(self, X, *args, **kwargs)\n",
      "  File \"c:\\Users\\parshin_sa2\\Miniconda3\\envs\\otus-reso\\lib\\site-packages\\sklearn\\impute\\_base.py\", line 530, in transform\n",
      "    X = self._validate_input(X, in_fit=False)\n",
      "  File \"c:\\Users\\parshin_sa2\\Miniconda3\\envs\\otus-reso\\lib\\site-packages\\sklearn\\impute\\_base.py\", line 315, in _validate_input\n",
      "    X = self._validate_data(\n",
      "  File \"c:\\Users\\parshin_sa2\\Miniconda3\\envs\\otus-reso\\lib\\site-packages\\sklearn\\base.py\", line 605, in _validate_data\n",
      "    out = check_array(X, input_name=\"X\", **check_params)\n",
      "  File \"c:\\Users\\parshin_sa2\\Miniconda3\\envs\\otus-reso\\lib\\site-packages\\sklearn\\utils\\validation.py\", line 915, in check_array\n",
      "    array = _asarray_with_order(array, order=order, dtype=dtype, xp=xp)\n",
      "  File \"c:\\Users\\parshin_sa2\\Miniconda3\\envs\\otus-reso\\lib\\site-packages\\sklearn\\utils\\_array_api.py\", line 380, in _asarray_with_order\n",
      "    array = numpy.asarray(array, order=order, dtype=dtype)\n",
      "  File \"c:\\Users\\parshin_sa2\\Miniconda3\\envs\\otus-reso\\lib\\site-packages\\pandas\\core\\generic.py\", line 2083, in __array__\n",
      "    values = self._values\n",
      "  File \"c:\\Users\\parshin_sa2\\Miniconda3\\envs\\otus-reso\\lib\\site-packages\\pandas\\core\\frame.py\", line 1049, in _values\n",
      "    return ensure_wrapped_if_datetimelike(self.values)\n",
      "  File \"c:\\Users\\parshin_sa2\\Miniconda3\\envs\\otus-reso\\lib\\site-packages\\pandas\\core\\frame.py\", line 12284, in values\n",
      "    return self._mgr.as_array()\n",
      "  File \"c:\\Users\\parshin_sa2\\Miniconda3\\envs\\otus-reso\\lib\\site-packages\\pandas\\core\\internals\\managers.py\", line 1656, in as_array\n",
      "    arr = self._interleave(dtype=dtype, na_value=na_value)\n",
      "  File \"c:\\Users\\parshin_sa2\\Miniconda3\\envs\\otus-reso\\lib\\site-packages\\pandas\\core\\internals\\managers.py\", line 1689, in _interleave\n",
      "    result = np.empty(self.shape, dtype=dtype)\n",
      "numpy.core._exceptions._ArrayMemoryError: Unable to allocate 641. MiB for an array with shape (49, 1714948) and data type float64\n",
      "\n",
      "--------------------------------------------------------------------------------\n",
      "4 fits failed with the following error:\n",
      "Traceback (most recent call last):\n",
      "  File \"c:\\Users\\parshin_sa2\\Miniconda3\\envs\\otus-reso\\lib\\site-packages\\sklearn\\model_selection\\_validation.py\", line 729, in _fit_and_score\n",
      "    estimator.fit(X_train, y_train, **fit_params)\n",
      "  File \"c:\\Users\\parshin_sa2\\Miniconda3\\envs\\otus-reso\\lib\\site-packages\\sklearn\\base.py\", line 1152, in wrapper\n",
      "    return fit_method(estimator, *args, **kwargs)\n",
      "  File \"c:\\Users\\parshin_sa2\\Miniconda3\\envs\\otus-reso\\lib\\site-packages\\sklearn\\pipeline.py\", line 423, in fit\n",
      "    Xt = self._fit(X, y, **fit_params_steps)\n",
      "  File \"c:\\Users\\parshin_sa2\\Miniconda3\\envs\\otus-reso\\lib\\site-packages\\sklearn\\pipeline.py\", line 377, in _fit\n",
      "    X, fitted_transformer = fit_transform_one_cached(\n",
      "  File \"c:\\Users\\parshin_sa2\\Miniconda3\\envs\\otus-reso\\lib\\site-packages\\joblib\\memory.py\", line 353, in __call__\n",
      "    return self.func(*args, **kwargs)\n",
      "  File \"c:\\Users\\parshin_sa2\\Miniconda3\\envs\\otus-reso\\lib\\site-packages\\sklearn\\pipeline.py\", line 957, in _fit_transform_one\n",
      "    res = transformer.fit_transform(X, y, **fit_params)\n",
      "  File \"c:\\Users\\parshin_sa2\\Miniconda3\\envs\\otus-reso\\lib\\site-packages\\sklearn\\utils\\_set_output.py\", line 157, in wrapped\n",
      "    data_to_wrap = f(self, X, *args, **kwargs)\n",
      "  File \"c:\\Users\\parshin_sa2\\Miniconda3\\envs\\otus-reso\\lib\\site-packages\\sklearn\\base.py\", line 1152, in wrapper\n",
      "    return fit_method(estimator, *args, **kwargs)\n",
      "  File \"c:\\Users\\parshin_sa2\\Miniconda3\\envs\\otus-reso\\lib\\site-packages\\sklearn\\compose\\_column_transformer.py\", line 754, in fit_transform\n",
      "    result = self._fit_transform(X, y, _fit_transform_one)\n",
      "  File \"c:\\Users\\parshin_sa2\\Miniconda3\\envs\\otus-reso\\lib\\site-packages\\sklearn\\compose\\_column_transformer.py\", line 681, in _fit_transform\n",
      "    return Parallel(n_jobs=self.n_jobs)(\n",
      "  File \"c:\\Users\\parshin_sa2\\Miniconda3\\envs\\otus-reso\\lib\\site-packages\\sklearn\\utils\\parallel.py\", line 65, in __call__\n",
      "    return super().__call__(iterable_with_config)\n",
      "  File \"c:\\Users\\parshin_sa2\\Miniconda3\\envs\\otus-reso\\lib\\site-packages\\joblib\\parallel.py\", line 1863, in __call__\n",
      "    return output if self.return_generator else list(output)\n",
      "  File \"c:\\Users\\parshin_sa2\\Miniconda3\\envs\\otus-reso\\lib\\site-packages\\joblib\\parallel.py\", line 1792, in _get_sequential_output\n",
      "    res = func(*args, **kwargs)\n",
      "  File \"c:\\Users\\parshin_sa2\\Miniconda3\\envs\\otus-reso\\lib\\site-packages\\sklearn\\utils\\parallel.py\", line 127, in __call__\n",
      "    return self.function(*args, **kwargs)\n",
      "  File \"c:\\Users\\parshin_sa2\\Miniconda3\\envs\\otus-reso\\lib\\site-packages\\sklearn\\pipeline.py\", line 957, in _fit_transform_one\n",
      "    res = transformer.fit_transform(X, y, **fit_params)\n",
      "  File \"c:\\Users\\parshin_sa2\\Miniconda3\\envs\\otus-reso\\lib\\site-packages\\sklearn\\base.py\", line 1152, in wrapper\n",
      "    return fit_method(estimator, *args, **kwargs)\n",
      "  File \"c:\\Users\\parshin_sa2\\Miniconda3\\envs\\otus-reso\\lib\\site-packages\\sklearn\\pipeline.py\", line 471, in fit_transform\n",
      "    Xt = self._fit(X, y, **fit_params_steps)\n",
      "  File \"c:\\Users\\parshin_sa2\\Miniconda3\\envs\\otus-reso\\lib\\site-packages\\sklearn\\pipeline.py\", line 377, in _fit\n",
      "    X, fitted_transformer = fit_transform_one_cached(\n",
      "  File \"c:\\Users\\parshin_sa2\\Miniconda3\\envs\\otus-reso\\lib\\site-packages\\joblib\\memory.py\", line 353, in __call__\n",
      "    return self.func(*args, **kwargs)\n",
      "  File \"c:\\Users\\parshin_sa2\\Miniconda3\\envs\\otus-reso\\lib\\site-packages\\sklearn\\pipeline.py\", line 957, in _fit_transform_one\n",
      "    res = transformer.fit_transform(X, y, **fit_params)\n",
      "  File \"c:\\Users\\parshin_sa2\\Miniconda3\\envs\\otus-reso\\lib\\site-packages\\sklearn\\utils\\_set_output.py\", line 157, in wrapped\n",
      "    data_to_wrap = f(self, X, *args, **kwargs)\n",
      "  File \"c:\\Users\\parshin_sa2\\Miniconda3\\envs\\otus-reso\\lib\\site-packages\\sklearn\\base.py\", line 919, in fit_transform\n",
      "    return self.fit(X, y, **fit_params).transform(X)\n",
      "  File \"c:\\Users\\parshin_sa2\\Miniconda3\\envs\\otus-reso\\lib\\site-packages\\sklearn\\base.py\", line 1152, in wrapper\n",
      "    return fit_method(estimator, *args, **kwargs)\n",
      "  File \"c:\\Users\\parshin_sa2\\Miniconda3\\envs\\otus-reso\\lib\\site-packages\\sklearn\\impute\\_base.py\", line 408, in fit\n",
      "    self.statistics_ = self._dense_fit(\n",
      "  File \"c:\\Users\\parshin_sa2\\Miniconda3\\envs\\otus-reso\\lib\\site-packages\\sklearn\\impute\\_base.py\", line 474, in _dense_fit\n",
      "    median_masked = np.ma.median(masked_X, axis=0)\n",
      "  File \"C:\\Users\\parshin_sa2\\AppData\\Roaming\\Python\\Python310\\site-packages\\numpy\\ma\\extras.py\", line 708, in median\n",
      "    r, k = _ureduce(a, func=_median, axis=axis, out=out,\n",
      "  File \"C:\\Users\\parshin_sa2\\AppData\\Roaming\\Python\\Python310\\site-packages\\numpy\\lib\\function_base.py\", line 3702, in _ureduce\n",
      "    r = func(a, **kwargs)\n",
      "  File \"C:\\Users\\parshin_sa2\\AppData\\Roaming\\Python\\Python310\\site-packages\\numpy\\ma\\extras.py\", line 730, in _median\n",
      "    asorted = sort(a, axis=axis, fill_value=fill_value)\n",
      "  File \"C:\\Users\\parshin_sa2\\AppData\\Roaming\\Python\\Python310\\site-packages\\numpy\\ma\\core.py\", line 6907, in sort\n",
      "    a.sort(axis=axis, kind=kind, order=order,\n",
      "  File \"C:\\Users\\parshin_sa2\\AppData\\Roaming\\Python\\Python310\\site-packages\\numpy\\ma\\core.py\", line 5658, in sort\n",
      "    sidx = self.argsort(axis=axis, kind=kind, order=order,\n",
      "  File \"C:\\Users\\parshin_sa2\\AppData\\Roaming\\Python\\Python310\\site-packages\\numpy\\ma\\core.py\", line 5492, in argsort\n",
      "    return filled.argsort(axis=axis, kind=kind, order=order)\n",
      "numpy.core._exceptions._ArrayMemoryError: Unable to allocate 641. MiB for an array with shape (1714948, 49) and data type int64\n",
      "\n",
      "--------------------------------------------------------------------------------\n",
      "1 fits failed with the following error:\n",
      "Traceback (most recent call last):\n",
      "  File \"c:\\Users\\parshin_sa2\\Miniconda3\\envs\\otus-reso\\lib\\site-packages\\sklearn\\model_selection\\_validation.py\", line 729, in _fit_and_score\n",
      "    estimator.fit(X_train, y_train, **fit_params)\n",
      "  File \"c:\\Users\\parshin_sa2\\Miniconda3\\envs\\otus-reso\\lib\\site-packages\\sklearn\\base.py\", line 1152, in wrapper\n",
      "    return fit_method(estimator, *args, **kwargs)\n",
      "  File \"c:\\Users\\parshin_sa2\\Miniconda3\\envs\\otus-reso\\lib\\site-packages\\sklearn\\pipeline.py\", line 423, in fit\n",
      "    Xt = self._fit(X, y, **fit_params_steps)\n",
      "  File \"c:\\Users\\parshin_sa2\\Miniconda3\\envs\\otus-reso\\lib\\site-packages\\sklearn\\pipeline.py\", line 377, in _fit\n",
      "    X, fitted_transformer = fit_transform_one_cached(\n",
      "  File \"c:\\Users\\parshin_sa2\\Miniconda3\\envs\\otus-reso\\lib\\site-packages\\joblib\\memory.py\", line 353, in __call__\n",
      "    return self.func(*args, **kwargs)\n",
      "  File \"c:\\Users\\parshin_sa2\\Miniconda3\\envs\\otus-reso\\lib\\site-packages\\sklearn\\pipeline.py\", line 957, in _fit_transform_one\n",
      "    res = transformer.fit_transform(X, y, **fit_params)\n",
      "  File \"c:\\Users\\parshin_sa2\\Miniconda3\\envs\\otus-reso\\lib\\site-packages\\sklearn\\utils\\_set_output.py\", line 157, in wrapped\n",
      "    data_to_wrap = f(self, X, *args, **kwargs)\n",
      "  File \"c:\\Users\\parshin_sa2\\Miniconda3\\envs\\otus-reso\\lib\\site-packages\\sklearn\\base.py\", line 1152, in wrapper\n",
      "    return fit_method(estimator, *args, **kwargs)\n",
      "  File \"c:\\Users\\parshin_sa2\\Miniconda3\\envs\\otus-reso\\lib\\site-packages\\sklearn\\compose\\_column_transformer.py\", line 754, in fit_transform\n",
      "    result = self._fit_transform(X, y, _fit_transform_one)\n",
      "  File \"c:\\Users\\parshin_sa2\\Miniconda3\\envs\\otus-reso\\lib\\site-packages\\sklearn\\compose\\_column_transformer.py\", line 681, in _fit_transform\n",
      "    return Parallel(n_jobs=self.n_jobs)(\n",
      "  File \"c:\\Users\\parshin_sa2\\Miniconda3\\envs\\otus-reso\\lib\\site-packages\\sklearn\\utils\\parallel.py\", line 65, in __call__\n",
      "    return super().__call__(iterable_with_config)\n",
      "  File \"c:\\Users\\parshin_sa2\\Miniconda3\\envs\\otus-reso\\lib\\site-packages\\joblib\\parallel.py\", line 1863, in __call__\n",
      "    return output if self.return_generator else list(output)\n",
      "  File \"c:\\Users\\parshin_sa2\\Miniconda3\\envs\\otus-reso\\lib\\site-packages\\joblib\\parallel.py\", line 1792, in _get_sequential_output\n",
      "    res = func(*args, **kwargs)\n",
      "  File \"c:\\Users\\parshin_sa2\\Miniconda3\\envs\\otus-reso\\lib\\site-packages\\sklearn\\utils\\parallel.py\", line 127, in __call__\n",
      "    return self.function(*args, **kwargs)\n",
      "  File \"c:\\Users\\parshin_sa2\\Miniconda3\\envs\\otus-reso\\lib\\site-packages\\sklearn\\pipeline.py\", line 957, in _fit_transform_one\n",
      "    res = transformer.fit_transform(X, y, **fit_params)\n",
      "  File \"c:\\Users\\parshin_sa2\\Miniconda3\\envs\\otus-reso\\lib\\site-packages\\sklearn\\base.py\", line 1152, in wrapper\n",
      "    return fit_method(estimator, *args, **kwargs)\n",
      "  File \"c:\\Users\\parshin_sa2\\Miniconda3\\envs\\otus-reso\\lib\\site-packages\\sklearn\\pipeline.py\", line 471, in fit_transform\n",
      "    Xt = self._fit(X, y, **fit_params_steps)\n",
      "  File \"c:\\Users\\parshin_sa2\\Miniconda3\\envs\\otus-reso\\lib\\site-packages\\sklearn\\pipeline.py\", line 377, in _fit\n",
      "    X, fitted_transformer = fit_transform_one_cached(\n",
      "  File \"c:\\Users\\parshin_sa2\\Miniconda3\\envs\\otus-reso\\lib\\site-packages\\joblib\\memory.py\", line 353, in __call__\n",
      "    return self.func(*args, **kwargs)\n",
      "  File \"c:\\Users\\parshin_sa2\\Miniconda3\\envs\\otus-reso\\lib\\site-packages\\sklearn\\pipeline.py\", line 957, in _fit_transform_one\n",
      "    res = transformer.fit_transform(X, y, **fit_params)\n",
      "  File \"c:\\Users\\parshin_sa2\\Miniconda3\\envs\\otus-reso\\lib\\site-packages\\sklearn\\utils\\_set_output.py\", line 157, in wrapped\n",
      "    data_to_wrap = f(self, X, *args, **kwargs)\n",
      "  File \"c:\\Users\\parshin_sa2\\Miniconda3\\envs\\otus-reso\\lib\\site-packages\\sklearn\\base.py\", line 919, in fit_transform\n",
      "    return self.fit(X, y, **fit_params).transform(X)\n",
      "  File \"c:\\Users\\parshin_sa2\\Miniconda3\\envs\\otus-reso\\lib\\site-packages\\sklearn\\base.py\", line 1152, in wrapper\n",
      "    return fit_method(estimator, *args, **kwargs)\n",
      "  File \"c:\\Users\\parshin_sa2\\Miniconda3\\envs\\otus-reso\\lib\\site-packages\\sklearn\\impute\\_base.py\", line 408, in fit\n",
      "    self.statistics_ = self._dense_fit(\n",
      "  File \"c:\\Users\\parshin_sa2\\Miniconda3\\envs\\otus-reso\\lib\\site-packages\\sklearn\\impute\\_base.py\", line 474, in _dense_fit\n",
      "    median_masked = np.ma.median(masked_X, axis=0)\n",
      "  File \"C:\\Users\\parshin_sa2\\AppData\\Roaming\\Python\\Python310\\site-packages\\numpy\\ma\\extras.py\", line 708, in median\n",
      "    r, k = _ureduce(a, func=_median, axis=axis, out=out,\n",
      "  File \"C:\\Users\\parshin_sa2\\AppData\\Roaming\\Python\\Python310\\site-packages\\numpy\\lib\\function_base.py\", line 3702, in _ureduce\n",
      "    r = func(a, **kwargs)\n",
      "  File \"C:\\Users\\parshin_sa2\\AppData\\Roaming\\Python\\Python310\\site-packages\\numpy\\ma\\extras.py\", line 730, in _median\n",
      "    asorted = sort(a, axis=axis, fill_value=fill_value)\n",
      "  File \"C:\\Users\\parshin_sa2\\AppData\\Roaming\\Python\\Python310\\site-packages\\numpy\\ma\\core.py\", line 6907, in sort\n",
      "    a.sort(axis=axis, kind=kind, order=order,\n",
      "  File \"C:\\Users\\parshin_sa2\\AppData\\Roaming\\Python\\Python310\\site-packages\\numpy\\ma\\core.py\", line 5661, in sort\n",
      "    self[...] = np.take_along_axis(self, sidx, axis=axis)\n",
      "  File \"<__array_function__ internals>\", line 180, in take_along_axis\n",
      "  File \"C:\\Users\\parshin_sa2\\AppData\\Roaming\\Python\\Python310\\site-packages\\numpy\\lib\\shape_base.py\", line 170, in take_along_axis\n",
      "    return arr[_make_along_axis_idx(arr_shape, indices, axis)]\n",
      "  File \"C:\\Users\\parshin_sa2\\AppData\\Roaming\\Python\\Python310\\site-packages\\numpy\\ma\\core.py\", line 3222, in __getitem__\n",
      "    dout = self.data[indx]\n",
      "numpy.core._exceptions._ArrayMemoryError: Unable to allocate 641. MiB for an array with shape (1714948, 49) and data type float64\n",
      "\n",
      "  warnings.warn(some_fits_failed_message, FitFailedWarning)\n",
      "c:\\Users\\parshin_sa2\\Miniconda3\\envs\\otus-reso\\lib\\site-packages\\sklearn\\model_selection\\_search.py:979: UserWarning: One or more of the test scores are non-finite: [-0.42837763         nan         nan         nan         nan -0.43285919\n",
      " -0.43276128 -0.42721709 -0.43289719 -0.42692445]\n",
      "  warnings.warn(\n"
     ]
    },
    {
     "name": "stdout",
     "output_type": "stream",
     "text": [
      "Best params: {'preprocessor__num__imputer__strategy': 'median', 'classifier__n_estimators': 50, 'classifier__min_samples_leaf': 20, 'classifier__max_depth': 20}\n",
      "Best score: 0.4269244537290057\n",
      "CPU times: total: 3h 40s\n",
      "Wall time: 21h 5min 26s\n"
     ]
    }
   ],
   "source": [
    "%%time\n",
    "\n",
    "search.fit(X_train, y_train)\n",
    "print(\"Best params:\", search.best_params_)\n",
    "print(\"Best score:\", -1 * search.best_score_)\n",
    "\n",
    "# clf.fit(df_train, df_train[y_colname])"
   ]
  },
  {
   "attachments": {},
   "cell_type": "markdown",
   "metadata": {},
   "source": [
    "Best params: {'preprocessor__num__imputer__strategy': 'median', 'classifier__n_estimators': 50, 'classifier__min_samples_leaf': 20, 'classifier__max_depth': 20}   \n",
    "Best score: 0.4269244537290057   \n",
    "CPU times: total: 3h 40s   \n",
    "Wall time: 21h 5min 26s   "
   ]
  },
  {
   "cell_type": "code",
   "execution_count": 202,
   "metadata": {},
   "outputs": [
    {
     "name": "stdout",
     "output_type": "stream",
     "text": [
      "Competition metric:\n",
      "MAE 0.697321407888594\n",
      "RMSE 1.2251949181639878\n"
     ]
    }
   ],
   "source": [
    "preds = search.predict(X_test)\n",
    "# print(classification_report(y_test, preds))\n",
    "print(\"Competition metric:\")\n",
    "print(\"MAE\", mean_absolute_error(y_test, preds))\n",
    "print(\"RMSE\", mean_squared_error(y_test, preds))"
   ]
  },
  {
   "attachments": {},
   "cell_type": "markdown",
   "metadata": {},
   "source": [
    "Earlier:   \n",
    "Competition metric:   \n",
    "MAE 0.7000896696264928   \n",
    "RMSE 1.2364441233891137   "
   ]
  },
  {
   "attachments": {},
   "cell_type": "markdown",
   "metadata": {},
   "source": [
    "### Plot feature importance"
   ]
  },
  {
   "cell_type": "code",
   "execution_count": 205,
   "metadata": {},
   "outputs": [
    {
     "name": "stdout",
     "output_type": "stream",
     "text": [
      "Elapsed time to compute the importances: 960.493 seconds\n"
     ]
    },
    {
     "data": {
      "image/png": "[encoded data removed]",
      "text/plain": [
       "<Figure size 640x480 with 1 Axes>"
      ]
     },
     "metadata": {},
     "output_type": "display_data"
    }
   ],
   "source": [
    "N_REPEATS = 10\n",
    "\n",
    "start_time = time.time()\n",
    "\n",
    "result = permutation_importance(\n",
    "    search, X_test, y_test, n_repeats=N_REPEATS, random_state=SEED, n_jobs=-1\n",
    ")\n",
    "elapsed_time = time.time() - start_time\n",
    "\n",
    "print(f\"Elapsed time to compute the importances: {elapsed_time:.3f} seconds\")\n",
    "\n",
    "forest_importances = pd.Series(result.importances_mean, index=X_train.columns.to_list())\n",
    "\n",
    "fig, ax = plt.subplots()\n",
    "forest_importances.plot.bar(yerr=result.importances_std, ax=ax)\n",
    "ax.set_title(\"Feature importances using permutation on full model\")\n",
    "ax.set_ylabel(\"Mean accuracy decrease\")\n",
    "fig.tight_layout()\n",
    "plt.show()"
   ]
  },
  {
   "attachments": {},
   "cell_type": "markdown",
   "metadata": {},
   "source": [
    "It is obseerved high importance for `recom` feature (from recomendation algorithfrom `surprise`)"
   ]
  },
  {
   "attachments": {},
   "cell_type": "markdown",
   "metadata": {},
   "source": [
    "### Observe results on some users/items"
   ]
  },
  {
   "attachments": {},
   "cell_type": "markdown",
   "metadata": {},
   "source": [
    "Results from SVDpp"
   ]
  },
  {
   "cell_type": "code",
   "execution_count": 340,
   "metadata": {},
   "outputs": [],
   "source": [
    "svdpp_pred = [\n",
    "    [\"A2EUH5XN2FKHC3\",\t\"B00HVQT8WW\",\t5.0, 4.632478,],\n",
    "    [\"A2EUH5XN2FKHC3\",\t\"B0017SGUDU\",\t3.0,\t4.237020,],\n",
    "    [\"A2EUH5XN2FKHC3\",\t\"B007PPI9JC\",\t1.0,\t3.613002,],\n",
    "    [\"A2EUH5XN2FKHC3\",\t\"B005I5ML0O\",\tnp.nan,\t4.548173,],\n",
    "    [\"AMMU9VZZ9OSII\",\t\"B005I5ML0O\",\t5.0,\t4.144081,],\n",
    "    [\"AMMU9VZZ9OSII\",\t\"B000VHTUKS\",\t3.0,\t3.987568,],\n",
    "    [\"AMMU9VZZ9OSII\",\t\"B002060PBQ\",\t2.0,\t3.596234,],\n",
    "    [\"AMMU9VZZ9OSII\",\t\"B007PPI9JC\",\tnp.nan,\t3.291260,],\n",
    "    [\"A38VV9LBC1N11Z\",\t\"B0014VYT7O\",\t5.0,\t4.530838,],\n",
    "    [\"A38VV9LBC1N11Z\",\t\"B00T6PTQ6Y\",\t4.0,\t4.235796,],\n",
    "    [\"A38VV9LBC1N11Z\",\t\"B01CTPUQW0\",\tnp.nan,\t4.415626,],\n",
    "    [\"A38VV9LBC1N11Z\",\t\"B01H1TXCJS\",\tnp.nan,\t4.415626,],\n",
    "]\n",
    "\n",
    "svdpp_pred = pd.DataFrame(svdpp_pred, columns=[USER_ID, ITEM_ID, RAITING, REC_COL])"
   ]
  },
  {
   "attachments": {},
   "cell_type": "markdown",
   "metadata": {},
   "source": [
    "Prepare fetures for test dataset"
   ]
  },
  {
   "cell_type": "code",
   "execution_count": 334,
   "metadata": {},
   "outputs": [],
   "source": [
    "features_test = []\n",
    "\n",
    "for user in users_test:\n",
    "   user_ = X_train_user_groubed[X_train_user_groubed[USER_ID] == user].drop_duplicates()\n",
    "   user_row = user_.iloc[0].to_list() if len(user_) == 1 else  list(common_user.values())\n",
    "   for item in users_test[user]:\n",
    "      item_ = X_train_item_grouped[X_train_item_grouped[ITEM_ID] == item].drop_duplicates()\n",
    "      item_row = item_.iloc[0].to_list() if len(user_) == 1 else  list(common_item.values())\n",
    "      rec = svdpp_pred.loc[(svdpp_pred[USER_ID]==user) & (svdpp_pred[ITEM_ID]==item), REC_COL]\n",
    "      features_test.append(user_row + item_row + [rec])\n",
    "\n",
    "df_features_test = pd.DataFrame(\n",
    "   features_test, columns=list(X_train_user_groubed.columns) + list(X_train_item_grouped.columns) + [REC_COL])\n",
    "df_features_test.drop([USER_ID, ITEM_ID], axis=1, inplace=True)\n",
    "\n",
    "assert (df_features_test.columns == X_train.columns).all()"
   ]
  },
  {
   "cell_type": "code",
   "execution_count": 342,
   "metadata": {},
   "outputs": [
    {
     "name": "stderr",
     "output_type": "stream",
     "text": [
      "c:\\Users\\parshin_sa2\\Miniconda3\\envs\\otus-reso\\lib\\site-packages\\sklearn\\utils\\_array_api.py:380: FutureWarning: Calling float on a single element Series is deprecated and will raise a TypeError in the future. Use float(ser.iloc[0]) instead\n",
      "  array = numpy.asarray(array, order=order, dtype=dtype)\n"
     ]
    }
   ],
   "source": [
    "svdpp_pred.loc[:, REC_RF_COL] = search.predict(df_features_test)"
   ]
  },
  {
   "cell_type": "code",
   "execution_count": 348,
   "metadata": {},
   "outputs": [
    {
     "data": {
      "text/html": [
       "<div>\n",
       "<style scoped>\n",
       "    .dataframe tbody tr th:only-of-type {\n",
       "        vertical-align: middle;\n",
       "    }\n",
       "\n",
       "    .dataframe tbody tr th {\n",
       "        vertical-align: top;\n",
       "    }\n",
       "\n",
       "    .dataframe thead th {\n",
       "        text-align: right;\n",
       "    }\n",
       "</style>\n",
       "<table border=\"1\" class=\"dataframe\">\n",
       "  <thead>\n",
       "    <tr style=\"text-align: right;\">\n",
       "      <th></th>\n",
       "      <th>reviewerID</th>\n",
       "      <th>asin</th>\n",
       "      <th>overall</th>\n",
       "      <th>recom</th>\n",
       "      <th>recom_rf</th>\n",
       "      <th>d_rec</th>\n",
       "      <th>d_recrf</th>\n",
       "    </tr>\n",
       "  </thead>\n",
       "  <tbody>\n",
       "    <tr>\n",
       "      <th>0</th>\n",
       "      <td>A2EUH5XN2FKHC3</td>\n",
       "      <td>B00HVQT8WW</td>\n",
       "      <td>5.0</td>\n",
       "      <td>4.632478</td>\n",
       "      <td>4.756355</td>\n",
       "      <td>0.367522</td>\n",
       "      <td>0.243645</td>\n",
       "    </tr>\n",
       "    <tr>\n",
       "      <th>1</th>\n",
       "      <td>A2EUH5XN2FKHC3</td>\n",
       "      <td>B0017SGUDU</td>\n",
       "      <td>3.0</td>\n",
       "      <td>4.237020</td>\n",
       "      <td>4.256625</td>\n",
       "      <td>-1.237020</td>\n",
       "      <td>-1.256625</td>\n",
       "    </tr>\n",
       "    <tr>\n",
       "      <th>2</th>\n",
       "      <td>A2EUH5XN2FKHC3</td>\n",
       "      <td>B007PPI9JC</td>\n",
       "      <td>1.0</td>\n",
       "      <td>3.613002</td>\n",
       "      <td>3.378598</td>\n",
       "      <td>-2.613002</td>\n",
       "      <td>-2.378598</td>\n",
       "    </tr>\n",
       "    <tr>\n",
       "      <th>3</th>\n",
       "      <td>A2EUH5XN2FKHC3</td>\n",
       "      <td>B005I5ML0O</td>\n",
       "      <td>NaN</td>\n",
       "      <td>4.548173</td>\n",
       "      <td>4.715744</td>\n",
       "      <td>NaN</td>\n",
       "      <td>NaN</td>\n",
       "    </tr>\n",
       "    <tr>\n",
       "      <th>4</th>\n",
       "      <td>AMMU9VZZ9OSII</td>\n",
       "      <td>B005I5ML0O</td>\n",
       "      <td>5.0</td>\n",
       "      <td>4.144081</td>\n",
       "      <td>4.103428</td>\n",
       "      <td>0.855919</td>\n",
       "      <td>0.896572</td>\n",
       "    </tr>\n",
       "    <tr>\n",
       "      <th>5</th>\n",
       "      <td>AMMU9VZZ9OSII</td>\n",
       "      <td>B000VHTUKS</td>\n",
       "      <td>3.0</td>\n",
       "      <td>3.987568</td>\n",
       "      <td>3.762567</td>\n",
       "      <td>-0.987568</td>\n",
       "      <td>-0.762567</td>\n",
       "    </tr>\n",
       "    <tr>\n",
       "      <th>6</th>\n",
       "      <td>AMMU9VZZ9OSII</td>\n",
       "      <td>B002060PBQ</td>\n",
       "      <td>2.0</td>\n",
       "      <td>3.596234</td>\n",
       "      <td>3.351885</td>\n",
       "      <td>-1.596234</td>\n",
       "      <td>-1.351885</td>\n",
       "    </tr>\n",
       "    <tr>\n",
       "      <th>7</th>\n",
       "      <td>AMMU9VZZ9OSII</td>\n",
       "      <td>B007PPI9JC</td>\n",
       "      <td>NaN</td>\n",
       "      <td>3.291260</td>\n",
       "      <td>3.029985</td>\n",
       "      <td>NaN</td>\n",
       "      <td>NaN</td>\n",
       "    </tr>\n",
       "    <tr>\n",
       "      <th>8</th>\n",
       "      <td>A38VV9LBC1N11Z</td>\n",
       "      <td>B0014VYT7O</td>\n",
       "      <td>5.0</td>\n",
       "      <td>4.530838</td>\n",
       "      <td>4.608211</td>\n",
       "      <td>0.469162</td>\n",
       "      <td>0.391789</td>\n",
       "    </tr>\n",
       "    <tr>\n",
       "      <th>9</th>\n",
       "      <td>A38VV9LBC1N11Z</td>\n",
       "      <td>B00T6PTQ6Y</td>\n",
       "      <td>4.0</td>\n",
       "      <td>4.235796</td>\n",
       "      <td>4.608211</td>\n",
       "      <td>-0.235796</td>\n",
       "      <td>-0.608211</td>\n",
       "    </tr>\n",
       "    <tr>\n",
       "      <th>10</th>\n",
       "      <td>A38VV9LBC1N11Z</td>\n",
       "      <td>B01CTPUQW0</td>\n",
       "      <td>NaN</td>\n",
       "      <td>4.415626</td>\n",
       "      <td>4.608211</td>\n",
       "      <td>NaN</td>\n",
       "      <td>NaN</td>\n",
       "    </tr>\n",
       "    <tr>\n",
       "      <th>11</th>\n",
       "      <td>A38VV9LBC1N11Z</td>\n",
       "      <td>B01H1TXCJS</td>\n",
       "      <td>NaN</td>\n",
       "      <td>4.415626</td>\n",
       "      <td>4.608211</td>\n",
       "      <td>NaN</td>\n",
       "      <td>NaN</td>\n",
       "    </tr>\n",
       "  </tbody>\n",
       "</table>\n",
       "</div>"
      ],
      "text/plain": [
       "        reviewerID        asin  overall     recom  recom_rf     d_rec  \\\n",
       "0   A2EUH5XN2FKHC3  B00HVQT8WW      5.0  4.632478  4.756355  0.367522   \n",
       "1   A2EUH5XN2FKHC3  B0017SGUDU      3.0  4.237020  4.256625 -1.237020   \n",
       "2   A2EUH5XN2FKHC3  B007PPI9JC      1.0  3.613002  3.378598 -2.613002   \n",
       "3   A2EUH5XN2FKHC3  B005I5ML0O      NaN  4.548173  4.715744       NaN   \n",
       "4    AMMU9VZZ9OSII  B005I5ML0O      5.0  4.144081  4.103428  0.855919   \n",
       "5    AMMU9VZZ9OSII  B000VHTUKS      3.0  3.987568  3.762567 -0.987568   \n",
       "6    AMMU9VZZ9OSII  B002060PBQ      2.0  3.596234  3.351885 -1.596234   \n",
       "7    AMMU9VZZ9OSII  B007PPI9JC      NaN  3.291260  3.029985       NaN   \n",
       "8   A38VV9LBC1N11Z  B0014VYT7O      5.0  4.530838  4.608211  0.469162   \n",
       "9   A38VV9LBC1N11Z  B00T6PTQ6Y      4.0  4.235796  4.608211 -0.235796   \n",
       "10  A38VV9LBC1N11Z  B01CTPUQW0      NaN  4.415626  4.608211       NaN   \n",
       "11  A38VV9LBC1N11Z  B01H1TXCJS      NaN  4.415626  4.608211       NaN   \n",
       "\n",
       "     d_recrf  \n",
       "0   0.243645  \n",
       "1  -1.256625  \n",
       "2  -2.378598  \n",
       "3        NaN  \n",
       "4   0.896572  \n",
       "5  -0.762567  \n",
       "6  -1.351885  \n",
       "7        NaN  \n",
       "8   0.391789  \n",
       "9  -0.608211  \n",
       "10       NaN  \n",
       "11       NaN  "
      ]
     },
     "metadata": {},
     "output_type": "display_data"
    },
    {
     "data": {
      "text/plain": [
       "d_rec      1.045278\n",
       "d_recrf    0.986237\n",
       "dtype: float64"
      ]
     },
     "execution_count": 348,
     "metadata": {},
     "output_type": "execute_result"
    }
   ],
   "source": [
    "svdpp_pred[\"d_rec\"] = svdpp_pred[RAITING] - svdpp_pred[REC_COL]\n",
    "svdpp_pred[\"d_recrf\"] = svdpp_pred[RAITING] - svdpp_pred[REC_RF_COL]\n",
    "display(svdpp_pred)\n",
    "svdpp_pred[[\"d_rec\", \"d_recrf\"]].abs().mean()"
   ]
  },
  {
   "cell_type": "code",
   "execution_count": 350,
   "metadata": {},
   "outputs": [
    {
     "data": {
      "text/plain": [
       "<Axes: >"
      ]
     },
     "execution_count": 350,
     "metadata": {},
     "output_type": "execute_result"
    },
    {
     "data": {
      "image/png": "[encoded data removed]",
      "text/plain": [
       "<Figure size 640x480 with 1 Axes>"
      ]
     },
     "metadata": {},
     "output_type": "display_data"
    }
   ],
   "source": [
    "svdpp_pred.dropna().plot()"
   ]
  },
  {
   "attachments": {},
   "cell_type": "markdown",
   "metadata": {},
   "source": [
    "Observed, that predictions from `SVDpp+RF` are a `bit better`. Generally peaks are more sharper and closer to the target. Probably, for classification problem `SVDpp` and `SVDpp+RF` would have the same score."
   ]
  },
  {
   "attachments": {},
   "cell_type": "markdown",
   "metadata": {},
   "source": [
    "# 8. Outcome from the whole notebook"
   ]
  },
  {
   "attachments": {},
   "cell_type": "markdown",
   "metadata": {},
   "source": [
    "Also add results from Surprise "
   ]
  },
  {
   "cell_type": "code",
   "execution_count": 349,
   "metadata": {},
   "outputs": [
    {
     "data": {
      "text/html": [
       "<div>\n",
       "<style scoped>\n",
       "    .dataframe tbody tr th:only-of-type {\n",
       "        vertical-align: middle;\n",
       "    }\n",
       "\n",
       "    .dataframe tbody tr th {\n",
       "        vertical-align: top;\n",
       "    }\n",
       "\n",
       "    .dataframe thead th {\n",
       "        text-align: right;\n",
       "    }\n",
       "</style>\n",
       "<table border=\"1\" class=\"dataframe\">\n",
       "  <thead>\n",
       "    <tr style=\"text-align: right;\">\n",
       "      <th></th>\n",
       "      <th>Algorithm</th>\n",
       "      <th>RMSE</th>\n",
       "      <th>MAE</th>\n",
       "    </tr>\n",
       "  </thead>\n",
       "  <tbody>\n",
       "    <tr>\n",
       "      <th>0</th>\n",
       "      <td>SVDpp+RF</td>\n",
       "      <td>1.225195</td>\n",
       "      <td>0.697321</td>\n",
       "    </tr>\n",
       "    <tr>\n",
       "      <th>1</th>\n",
       "      <td>SVDpp</td>\n",
       "      <td>1.038320</td>\n",
       "      <td>0.726963</td>\n",
       "    </tr>\n",
       "    <tr>\n",
       "      <th>2</th>\n",
       "      <td>BaselineOnly</td>\n",
       "      <td>1.039610</td>\n",
       "      <td>0.750934</td>\n",
       "    </tr>\n",
       "    <tr>\n",
       "      <th>3</th>\n",
       "      <td>KNNBaseline</td>\n",
       "      <td>1.071190</td>\n",
       "      <td>0.789666</td>\n",
       "    </tr>\n",
       "    <tr>\n",
       "      <th>4</th>\n",
       "      <td>SlopeOne</td>\n",
       "      <td>1.092173</td>\n",
       "      <td>0.798785</td>\n",
       "    </tr>\n",
       "  </tbody>\n",
       "</table>\n",
       "</div>"
      ],
      "text/plain": [
       "      Algorithm      RMSE       MAE\n",
       "0      SVDpp+RF  1.225195  0.697321\n",
       "1         SVDpp  1.038320  0.726963\n",
       "2  BaselineOnly  1.039610  0.750934\n",
       "3   KNNBaseline  1.071190  0.789666\n",
       "4      SlopeOne  1.092173  0.798785"
      ]
     },
     "execution_count": 349,
     "metadata": {},
     "output_type": "execute_result"
    }
   ],
   "source": [
    "model_results = [\n",
    "    [\"SVDpp+RF\", 1.2251949181639878, 0.697321407888594],\n",
    "    [\"SVDpp\", 1.038320, 0.726963],\n",
    "    [\"BaselineOnly\", 1.039610, 0.750934],\n",
    "    [\"KNNBaseline\", 1.071190, 0.789666],\n",
    "    [\"SlopeOne\", 1.092173, 0.798785],\n",
    "]\n",
    "\n",
    "models_res = pd.DataFrame(model_results, columns=[\"Algorithm\", \"RMSE\", \"MAE\"])\n",
    "models_res"
   ]
  },
  {
   "attachments": {},
   "cell_type": "markdown",
   "metadata": {},
   "source": [
    " It is observed `SVDpp` + second algorithm (`Random Forest`) much better regarding `MAE`, but `RMSE` is worse. Supposedly because `SVDpp+RF` reacts sharper."
   ]
  }
 ],
 "metadata": {
  "kernelspec": {
   "display_name": "otus-reso",
   "language": "python",
   "name": "python3"
  },
  "language_info": {
   "codemirror_mode": {
    "name": "ipython",
    "version": 3
   },
   "file_extension": ".py",
   "mimetype": "text/x-python",
   "name": "python",
   "nbconvert_exporter": "python",
   "pygments_lexer": "ipython3",
   "version": "3.10.12"
  },
  "orig_nbformat": 4
 },
 "nbformat": 4,
 "nbformat_minor": 2
}
